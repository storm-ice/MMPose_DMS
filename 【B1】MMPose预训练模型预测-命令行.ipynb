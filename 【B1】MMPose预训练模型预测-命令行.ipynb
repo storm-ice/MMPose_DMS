{
 "cells": [
  {
   "cell_type": "markdown",
   "id": "784ce4a0-b0db-42c8-8c29-0dd3314fe397",
   "metadata": {},
   "source": [
    "# MMPose预训练模型预测-命令行"
   ]
  },
  {
   "cell_type": "markdown",
   "id": "23306f50-79b9-44f8-b34c-857b838db0a5",
   "metadata": {
    "tags": []
   },
   "source": [
    "## 进入 mmpose 主目录"
   ]
  },
  {
   "cell_type": "code",
   "execution_count": 2,
   "id": "83f7c5db-0919-484d-ac50-e2cf666b5fb6",
   "metadata": {},
   "outputs": [],
   "source": [
    "import os\n",
    "os.chdir('mmpose')"
   ]
  },
  {
   "cell_type": "code",
   "execution_count": 3,
   "id": "0a0d2408-7f9b-4d58-a48f-149ccf4420ea",
   "metadata": {},
   "outputs": [
    {
     "name": "stdout",
     "output_type": "stream",
     "text": [
      "/e/openmmlab/MMPose_DMS/mmpose\n"
     ]
    }
   ],
   "source": [
    "!pwd"
   ]
  },
  {
   "cell_type": "code",
   "execution_count": 2,
   "id": "fd7a8e76-5ac5-456c-a65c-52a88b897481",
   "metadata": {},
   "outputs": [],
   "source": [
    "os.chdir('..')"
   ]
  },
  {
   "cell_type": "markdown",
   "id": "a16bd452-c4bd-4c74-99e2-5eb5f860e1f9",
   "metadata": {},
   "source": [
    "## 一些图像和视频素材"
   ]
  },
  {
   "cell_type": "code",
   "execution_count": 3,
   "id": "ac34dda5-4965-4d23-8aab-82a718cdb5f8",
   "metadata": {},
   "outputs": [],
   "source": [
    "# 一些素材\n",
    "\n",
    "# data/test/multi-person.jpeg\n",
    "\n",
    "# data/test/cxk.mp4\n",
    "\n",
    "# data/test/two_dancers.mp4"
   ]
  },
  {
   "cell_type": "markdown",
   "id": "15ce5360-b4e1-4c51-be8b-2754aaf0da25",
   "metadata": {},
   "source": [
    "## 模型库预训练模型 - 身体\n",
    "\n",
    "- 目标检测模型\n",
    "\n",
    "MMDetection模型库：https://github.com/open-mmlab/mmdetection/blob/master/docs/en/model_zoo.md\n",
    "\n",
    "demo/mmdetection_cfg/faster_rcnn_r50_fpn_coco.py\n",
    "\n",
    "https://download.openmmlab.com/mmdetection/v2.0/faster_rcnn/faster_rcnn_r50_fpn_1x_coco/faster_rcnn_r50_fpn_1x_coco_20200130-047c8118.pth\n",
    "\n",
    "- MMPose人体姿态估计模型\n",
    "\n",
    "configs/body_2d_keypoint/topdown_heatmap/coco/td-hm_hrnet-w32_8xb64-210e_coco-256x192.py\n",
    "\n",
    "https://download.openmmlab.com/mmpose/top_down/hrnet/hrnet_w32_coco_256x192-c78dce93_20200708.pth\n",
    "\n",
    "- RTMPose人体姿态估计模型\n",
    "\n",
    "RTMPose主页：https://github.com/open-mmlab/mmpose/tree/dev-1.x/projects/rtmpose\n",
    "\n",
    "> RTMPose-S\n",
    "\n",
    "projects/rtmpose/rtmpose/body_2d_keypoint/rtmpose-s_8xb256-420e_coco-256x192.py\n",
    "\n",
    "https://download.openmmlab.com/mmpose/v1/projects/rtmpose/rtmpose-s_simcc-aic-coco_pt-aic-coco_420e-256x192-fcb2599b_20230126.pth\n",
    "\n",
    "> RTMPose-L\n",
    "\n",
    "projects/rtmpose/rtmpose/body_2d_keypoint/rtmpose-l_8xb256-420e_coco-384x288.py\n",
    "\n",
    "https://download.openmmlab.com/mmpose/v1/projects/rtmpose/rtmpose-l_simcc-aic-coco_pt-aic-coco_420e-384x288-97d6cb0f_20230228.pth"
   ]
  },
  {
   "cell_type": "markdown",
   "id": "82448217-318b-4395-8bf2-40f3b5e94e78",
   "metadata": {},
   "source": [
    "## 模型库预训练模型 - 人脸\n",
    "\n",
    "- 目标检测模型\n",
    "\n",
    "MMDetection模型库：https://github.com/open-mmlab/mmdetection/blob/master/docs/en/model_zoo.md\n",
    "\n",
    "demo/mmdetection_cfg/faster_rcnn_r50_fpn_coco.py\n",
    "\n",
    "https://download.openmmlab.com/mmdetection/v2.0/faster_rcnn/faster_rcnn_r50_fpn_1x_coco/faster_rcnn_r50_fpn_1x_coco_20200130-047c8118.pth\n",
    "\n",
    "- MMPose人体姿态估计模型\n",
    "\n",
    "configs/body_2d_keypoint/topdown_heatmap/coco/td-hm_hrnet-w32_8xb64-210e_coco-256x192.py\n",
    "\n",
    "https://download.openmmlab.com/mmpose/top_down/hrnet/hrnet_w32_coco_256x192-c78dce93_20200708.pth\n",
    "\n",
    "- RTMPose人体姿态估计模型\n",
    "\n",
    "RTMPose主页：https://github.com/open-mmlab/mmpose/tree/dev-1.x/projects/rtmpose\n",
    "\n",
    "> RTMPose-S\n",
    "\n",
    "projects/rtmpose/rtmpose/body_2d_keypoint/rtmpose-s_8xb256-420e_coco-256x192.py\n",
    "\n",
    "https://download.openmmlab.com/mmpose/v1/projects/rtmpose/rtmpose-s_simcc-aic-coco_pt-aic-coco_420e-256x192-fcb2599b_20230126.pth\n",
    "\n",
    "'https://download.openmmlab.com/mmpose/v1/projects/'\r\n",
    "            'rtmposev1/cspnext-s_udp-aic-coco_210e-256x192-92f5a029_20230130.pth'\n",
    "\n",
    "> RTMPose-L\n",
    "\n",
    "projects/rtmpose/rtmpose/body_2d_keypoint/rtmpose-l_8xb256-420e_coco-384x288.py\n",
    "\n",
    "https://download.openmmlab.com/mmpose/v1/projects/rtmpose/rtmpose-l_simcc-aic-coco_pt-aic-coco_420e-384x288-97d6cb0f_20230228.pth\n",
    "\n",
    "'https://download.openmmlab.com/mmpose/v1/projects/'\r\n",
    "            'rtmposev1/cspnext-l_udp-aic-coco_210e-256x192-273b7631_20230130.pth' \n",
    "\n",
    "\n",
    "\n",
    "> RTMPose-M\n",
    "\n",
    "projects/rtmpose/rtmpose/body_2d_keypoint/rtmpose-l_8xb256-420e_coco-384x288.py\n",
    "mmpose\\configs\\face_2d_keypoint\\rtmpose\\lapa\\rtmpose-m_8xb64-120e_lapa-256x256.py\n",
    "mmpose\\projects\\rtmpose\\rtmpose\\face_2d_keypoint\\rtmpose-m_8xb64-120e_lapa-256x256.py\n",
    "\n",
    "https://download.openmmlab.com/mmpose/v1/projects/rtmpose/rtmpose-l_simcc-aic-coco_pt-aic-coco_420e-384x288-97d6cb0f_20230228.pth\n",
    "\n",
    "https://download.openmmlab.com/mmpose/v1/projects/'rtmposev1/cspnext-m_udp-aic-coco_210e-256x192-f2f7d6f6_20230130.pt'"
   ]
  },
  {
   "cell_type": "markdown",
   "id": "3f344535-e654-418b-8340-8624154640ca",
   "metadata": {},
   "source": [
    "# 相关文件"
   ]
  },
  {
   "cell_type": "markdown",
   "id": "50b65faa-d089-4003-9947-195948a915ec",
   "metadata": {},
   "source": [
    "## Face6\n",
    "### 人脸目标检测\n",
    "\n",
    "#### 配置文件\n",
    "demo/mmdetection_cfg/yolox-s_8xb8-300e_coco-face.py\n",
    "\n",
    "#### 模型文件\n",
    "https://download.openmmlab.com/mmpose/mmdet_pretrained/yolo-x_8xb8-300e_coco-face_13274d7c.pth \n",
    "\n",
    "### 人脸关键点检测\n",
    "\n",
    "#### 配置文件\n",
    "configs/face_2d_keypoint/rtmpose/face6/rtmpose-m_8xb256-120e_face6-256x256.py \n",
    "\n",
    "#### 模型文件\n",
    "https://download.openmmlab.com/mmpose/v1/projects/rtmposev1/rtmpose-m_simcc-face6_pt-in1k_120e-256x256-72a37400_20230529.pth \\"
   ]
  },
  {
   "cell_type": "markdown",
   "id": "7a130c88-3f6d-4b30-a03f-51345e4cc86a",
   "metadata": {},
   "source": [
    "## LaPa \n",
    "### 人脸目标检测\n",
    "\n",
    "#### 配置文件\n",
    "demo/mmdetection_cfg/yolox-s_8xb8-300e_coco-face.py\n",
    "\n",
    "#### 模型文件\n",
    "checkpoint/yolo-x_8xb8-300e_coco-face_13274d7c.pth\n",
    "https://download.openmmlab.com/mmpose/mmdet_pretrained/yolo-x_8xb8-300e_coco-face_13274d7c.pth \n",
    "\n",
    "### 人脸关键点检测\n",
    "\n",
    "#### 配置文件\n",
    "configs/face_2d_keypoint/rtmpose/lapa/rtmpose-m_8xb64-120e_lapa-256x256.py\n",
    "https://github.com/open-mmlab/mmpose/blob/dev-1.x/configs/face_2d_keypoint/rtmpose/lapa/rtmpose-m_8xb64-120e_lapa-256x256.py\n",
    "\n",
    "#### 模型文件\n",
    "checkpoint/rtmpose-m_simcc-lapa_pt-aic-coco_120e-256x256-762b1ae2_20230422.pth\n",
    "https://download.openmmlab.com/mmpose/v1/projects/rtmposev1/rtmpose-m_simcc-lapa_pt-aic-coco_120e-256x256-762b1ae2_20230422.pth1221.pth"
   ]
  },
  {
   "cell_type": "markdown",
   "id": "375e7e63-8962-471b-84a4-8408ad764103",
   "metadata": {},
   "source": [
    "# 预测"
   ]
  },
  {
   "cell_type": "markdown",
   "id": "a74faf58-4237-42e6-be61-b0c7e262fc6e",
   "metadata": {},
   "source": [
    "## 预测单张图像"
   ]
  },
  {
   "cell_type": "code",
   "execution_count": 8,
   "id": "103c1258-6db6-44b5-a249-cb55a19fc274",
   "metadata": {},
   "outputs": [
    {
     "name": "stdout",
     "output_type": "stream",
     "text": [
      "/e/openmmlab/MMPose_Tutorials/2023/0524/mmpose\n"
     ]
    }
   ],
   "source": [
    "!pwd"
   ]
  },
  {
   "cell_type": "code",
   "execution_count": 9,
   "id": "67499aff-d83e-4fee-8db9-f5d68388fdb5",
   "metadata": {},
   "outputs": [
    {
     "name": "stdout",
     "output_type": "stream",
     "text": [
      "Loads checkpoint by http backend from path: https://download.openmmlab.com/mmdetection/v2.0/faster_rcnn/faster_rcnn_r50_fpn_1x_coco/faster_rcnn_r50_fpn_1x_coco_20200130-047c8118.pth\n",
      "Loads checkpoint by http backend from path: https://download.openmmlab.com/mmpose/top_down/hrnet/hrnet_w32_coco_256x192-c78dce93_20200708.pth\n"
     ]
    }
   ],
   "source": [
    "# HRNet\n",
    "!python demo/topdown_demo_with_mmdet.py \\\n",
    "        demo/mmdetection_cfg/faster_rcnn_r50_fpn_coco.py \\\n",
    "        https://download.openmmlab.com/mmdetection/v2.0/faster_rcnn/faster_rcnn_r50_fpn_1x_coco/faster_rcnn_r50_fpn_1x_coco_20200130-047c8118.pth \\\n",
    "        configs/body_2d_keypoint/topdown_heatmap/coco/td-hm_hrnet-w32_8xb64-210e_coco-256x192.py \\\n",
    "        https://download.openmmlab.com/mmpose/top_down/hrnet/hrnet_w32_coco_256x192-c78dce93_20200708.pth \\\n",
    "        --input data/test/multi-person.jpeg \\\n",
    "        --output-root outputs/B1_HRNet_1 \\\n",
    "        --device cuda:0 \\\n",
    "        --bbox-thr 0.5 \\\n",
    "        --kpt-thr 0.2 \\\n",
    "        --nms-thr 0.3 \\\n",
    "        --radius 8 \\\n",
    "        --thickness 4 \\\n",
    "        --draw-bbox \\\n",
    "        --draw-heatmap \\\n",
    "        --show-kpt-idx"
   ]
  },
  {
   "cell_type": "code",
   "execution_count": 10,
   "id": "93eefc16-24d5-46b9-b401-72534458b3dd",
   "metadata": {},
   "outputs": [
    {
     "name": "stdout",
     "output_type": "stream",
     "text": [
      "Loads checkpoint by http backend from path: https://download.openmmlab.com/mmdetection/v2.0/faster_rcnn/faster_rcnn_r50_fpn_1x_coco/faster_rcnn_r50_fpn_1x_coco_20200130-047c8118.pth\n",
      "Loads checkpoint by http backend from path: https://download.openmmlab.com/mmpose/v1/projects/rtmpose/rtmpose-s_simcc-aic-coco_pt-aic-coco_420e-256x192-fcb2599b_20230126.pth\n"
     ]
    },
    {
     "name": "stderr",
     "output_type": "stream",
     "text": [
      "e:\\mmpose\\mmpose\\models\\heads\\coord_cls_heads\\rtmcc_head.py:217: UserWarning: The predicted simcc values are normalized for visualization. This may cause discrepancy between the keypoint scores and the 1D heatmaps.\n",
      "  warnings.warn('The predicted simcc values are normalized for '\n"
     ]
    }
   ],
   "source": [
    "# RTMPose\n",
    "!python demo/topdown_demo_with_mmdet.py \\\n",
    "        demo/mmdetection_cfg/faster_rcnn_r50_fpn_coco.py \\\n",
    "        https://download.openmmlab.com/mmdetection/v2.0/faster_rcnn/faster_rcnn_r50_fpn_1x_coco/faster_rcnn_r50_fpn_1x_coco_20200130-047c8118.pth \\\n",
    "        projects/rtmpose/rtmpose/body_2d_keypoint/rtmpose-s_8xb256-420e_coco-256x192.py \\\n",
    "        https://download.openmmlab.com/mmpose/v1/projects/rtmpose/rtmpose-s_simcc-aic-coco_pt-aic-coco_420e-256x192-fcb2599b_20230126.pth \\\n",
    "        --input data/test/multi-person.jpeg \\\n",
    "        --output-root outputs/B1_RTM_1 \\\n",
    "        --device cuda:0 \\\n",
    "        --bbox-thr 0.5 \\\n",
    "        --kpt-thr 0.5 \\\n",
    "        --nms-thr 0.3 \\\n",
    "        --radius 8 \\\n",
    "        --thickness 4 \\\n",
    "        --draw-bbox \\\n",
    "        --draw-heatmap \\\n",
    "        --show-kpt-idx"
   ]
  },
  {
   "cell_type": "markdown",
   "id": "5304ace2-c2b1-4009-93a2-5f40b564f429",
   "metadata": {},
   "source": [
    "## Face6"
   ]
  },
  {
   "cell_type": "code",
   "execution_count": 6,
   "id": "13600250-8400-44ae-be32-996c381cd47a",
   "metadata": {},
   "outputs": [
    {
     "name": "stdout",
     "output_type": "stream",
     "text": [
      "Loads checkpoint by http backend from path: https://download.openmmlab.com/mmpose/mmdet_pretrained/yolo-x_8xb8-300e_coco-face_13274d7c.pth"
     ]
    },
    {
     "name": "stderr",
     "output_type": "stream",
     "text": [
      "D:\\Anaconda3\\envs\\openmmlab\\lib\\site-packages\\mmengine\\visualization\\visualizer.py:196: UserWarning: Failed to add <class 'mmengine.visualization.vis_backend.LocalVisBackend'>, please provide the `save_dir` argument.\n",
      "  warnings.warn(f'Failed to add {vis_backend.__class__}, '\n",
      "D:\\Anaconda3\\envs\\openmmlab\\lib\\site-packages\\torch\\functional.py:504: UserWarning: torch.meshgrid: in an upcoming release, it will be required to pass the indexing argument. (Triggered internally at C:\\cb\\pytorch_1000000000000\\work\\aten\\src\\ATen\\native\\TensorShape.cpp:3527.)\n",
      "  return _VF.meshgrid(tensors, **kwargs)  # type: ignore[attr-defined]\n",
      "D:\\Anaconda3\\envs\\openmmlab\\lib\\site-packages\\mmpose\\models\\heads\\coord_cls_heads\\rtmcc_head.py:217: UserWarning: The predicted simcc values are normalized for visualization. This may cause discrepancy between the keypoint scores and the 1D heatmaps.\n",
      "  warnings.warn('The predicted simcc values are normalized for '\n"
     ]
    },
    {
     "name": "stdout",
     "output_type": "stream",
     "text": [
      "\n",
      "Loads checkpoint by http backend from path: https://download.openmmlab.com/mmpose/v1/projects/rtmposev1/rtmpose-m_simcc-face6_pt-in1k_120e-256x256-72a37400_20230529.pth\n"
     ]
    }
   ],
   "source": [
    "# Face6\n",
    "!python demo/topdown_demo_with_mmdet.py \\\n",
    "    demo/mmdetection_cfg/yolox-s_8xb8-300e_coco-face.py \\\n",
    "    https://download.openmmlab.com/mmpose/mmdet_pretrained/yolo-x_8xb8-300e_coco-face_13274d7c.pth \\\n",
    "    configs/face_2d_keypoint/rtmpose/face6/rtmpose-m_8xb256-120e_face6-256x256.py \\\n",
    "    https://download.openmmlab.com/mmpose/v1/projects/rtmposev1/rtmpose-m_simcc-face6_pt-in1k_120e-256x256-72a37400_20230529.pth \\\n",
    "    --input webcam\\\n",
    "    --show --draw-heatmap"
   ]
  },
  {
   "cell_type": "markdown",
   "id": "43120aa3-f5ff-4b4d-92c0-add27ff24fe2",
   "metadata": {},
   "source": [
    "## LaPa"
   ]
  },
  {
   "cell_type": "code",
   "execution_count": 9,
   "id": "7e4dde93-0be1-4a62-8abd-58738f657d08",
   "metadata": {},
   "outputs": [
    {
     "name": "stdout",
     "output_type": "stream",
     "text": [
      "Loads checkpoint by local backend from path: checkpoint/yolo-x_8xb8-300e_coco-face_13274d7c.pth\n",
      "Loads checkpoint by local backend from path: checkpoint/rtmpose-m_simcc-lapa_pt-aic-coco_120e-256x256-762b1ae2_20230422.pth\n"
     ]
    },
    {
     "name": "stderr",
     "output_type": "stream",
     "text": [
      "D:\\Anaconda3\\envs\\openmmlab\\lib\\site-packages\\mmengine\\visualization\\visualizer.py:196: UserWarning: Failed to add <class 'mmengine.visualization.vis_backend.LocalVisBackend'>, please provide the `save_dir` argument.\n",
      "  warnings.warn(f'Failed to add {vis_backend.__class__}, '\n",
      "D:\\Anaconda3\\envs\\openmmlab\\lib\\site-packages\\torch\\functional.py:504: UserWarning: torch.meshgrid: in an upcoming release, it will be required to pass the indexing argument. (Triggered internally at C:\\cb\\pytorch_1000000000000\\work\\aten\\src\\ATen\\native\\TensorShape.cpp:3527.)\n",
      "  return _VF.meshgrid(tensors, **kwargs)  # type: ignore[attr-defined]\n"
     ]
    }
   ],
   "source": [
    "# LaPa\n",
    "# yolox-s -> rtmpose-m\n",
    "!python demo/topdown_demo_with_mmdet.py \\\n",
    "    demo/mmdetection_cfg/yolox-s_8xb8-300e_coco-face.py \\\n",
    "    checkpoint/yolo-x_8xb8-300e_coco-face_13274d7c.pth \\\n",
    "    configs/face_2d_keypoint/rtmpose/lapa/rtmpose-m_8xb64-120e_lapa-256x256.py \\\n",
    "    checkpoint/rtmpose-m_simcc-lapa_pt-aic-coco_120e-256x256-762b1ae2_20230422.pth \\\n",
    "    --input webcam \\\n",
    "    --show"
   ]
  },
  {
   "cell_type": "markdown",
   "id": "34c88527-125b-46da-9d89-9c07fccad9a5",
   "metadata": {},
   "source": [
    "## 预测视频：直接将`--input`换成视频路径即可"
   ]
  },
  {
   "cell_type": "code",
   "execution_count": 11,
   "id": "371d4c31-eb0f-4469-a5ec-cf73989c357d",
   "metadata": {},
   "outputs": [
    {
     "name": "stdout",
     "output_type": "stream",
     "text": [
      "Loads checkpoint by http backend from path: https://download.openmmlab.com/mmdetection/v2.0/faster_rcnn/faster_rcnn_r50_fpn_1x_coco/faster_rcnn_r50_fpn_1x_coco_20200130-047c8118.pth\n",
      "Loads checkpoint by http backend from path: https://download.openmmlab.com/mmpose/top_down/hrnet/hrnet_w32_coco_256x192-c78dce93_20200708.pth\n"
     ]
    },
    {
     "name": "stderr",
     "output_type": "stream",
     "text": [
      "Traceback (most recent call last):\n",
      "  File \"demo/topdown_demo_with_mmdet.py\", line 292, in <module>\n",
      "    main()\n",
      "  File \"demo/topdown_demo_with_mmdet.py\", line 265, in main\n",
      "    if cv2.waitKey(5) & 0xFF == 27:\n",
      "cv2.error: OpenCV(4.8.1) D:\\a\\opencv-python\\opencv-python\\opencv\\modules\\highgui\\src\\window.cpp:1338: error: (-2:Unspecified error) The function is not implemented. Rebuild the library with Windows, GTK+ 2.x or Cocoa support. If you are on Ubuntu or Debian, install libgtk2.0-dev and pkg-config, then re-run cmake or configure script in function 'cvWaitKey'\n",
      "\n"
     ]
    }
   ],
   "source": [
    "# HRNet\n",
    "!python demo/topdown_demo_with_mmdet.py \\\n",
    "        demo/mmdetection_cfg/faster_rcnn_r50_fpn_coco.py \\\n",
    "        https://download.openmmlab.com/mmdetection/v2.0/faster_rcnn/faster_rcnn_r50_fpn_1x_coco/faster_rcnn_r50_fpn_1x_coco_20200130-047c8118.pth \\\n",
    "        configs/body_2d_keypoint/topdown_heatmap/coco/td-hm_hrnet-w32_8xb64-210e_coco-256x192.py \\\n",
    "        https://download.openmmlab.com/mmpose/top_down/hrnet/hrnet_w32_coco_256x192-c78dce93_20200708.pth \\\n",
    "        --input data/test/mother_wx.mp4 \\\n",
    "        --output-root outputs/B1_HRNet_2 \\\n",
    "        --device cuda:0 \\\n",
    "        --bbox-thr 0.5 \\\n",
    "        --kpt-thr 0.2 \\\n",
    "        --nms-thr 0.3 \\\n",
    "        --radius 5 \\\n",
    "        --thickness 2 \\\n",
    "        --draw-bbox \\\n",
    "        --draw-heatmap \\\n",
    "        --show-kpt-idx"
   ]
  },
  {
   "cell_type": "code",
   "execution_count": 12,
   "id": "778ee737-44fc-4fc6-a31f-16aff9008a8d",
   "metadata": {},
   "outputs": [
    {
     "name": "stdout",
     "output_type": "stream",
     "text": [
      "Loads checkpoint by http backend from path: https://download.openmmlab.com/mmdetection/v2.0/faster_rcnn/faster_rcnn_r50_fpn_1x_coco/faster_rcnn_r50_fpn_1x_coco_20200130-047c8118.pth\n",
      "Loads checkpoint by http backend from path: https://download.openmmlab.com/mmpose/v1/projects/rtmpose/rtmpose-s_simcc-aic-coco_pt-aic-coco_420e-256x192-fcb2599b_20230126.pth\n"
     ]
    },
    {
     "name": "stderr",
     "output_type": "stream",
     "text": [
      "e:\\mmpose\\mmpose\\models\\heads\\coord_cls_heads\\rtmcc_head.py:217: UserWarning: The predicted simcc values are normalized for visualization. This may cause discrepancy between the keypoint scores and the 1D heatmaps.\n",
      "  warnings.warn('The predicted simcc values are normalized for '\n",
      "Traceback (most recent call last):\n",
      "  File \"demo/topdown_demo_with_mmdet.py\", line 292, in <module>\n",
      "    main()\n",
      "  File \"demo/topdown_demo_with_mmdet.py\", line 265, in main\n",
      "    if cv2.waitKey(5) & 0xFF == 27:\n",
      "cv2.error: OpenCV(4.8.1) D:\\a\\opencv-python\\opencv-python\\opencv\\modules\\highgui\\src\\window.cpp:1338: error: (-2:Unspecified error) The function is not implemented. Rebuild the library with Windows, GTK+ 2.x or Cocoa support. If you are on Ubuntu or Debian, install libgtk2.0-dev and pkg-config, then re-run cmake or configure script in function 'cvWaitKey'\n",
      "\n"
     ]
    }
   ],
   "source": [
    "# RTMPose\n",
    "!python demo/topdown_demo_with_mmdet.py \\\n",
    "        demo/mmdetection_cfg/faster_rcnn_r50_fpn_coco.py \\\n",
    "        https://download.openmmlab.com/mmdetection/v2.0/faster_rcnn/faster_rcnn_r50_fpn_1x_coco/faster_rcnn_r50_fpn_1x_coco_20200130-047c8118.pth \\\n",
    "        projects/rtmpose/rtmpose/body_2d_keypoint/rtmpose-s_8xb256-420e_coco-256x192.py \\\n",
    "        https://download.openmmlab.com/mmpose/v1/projects/rtmpose/rtmpose-s_simcc-aic-coco_pt-aic-coco_420e-256x192-fcb2599b_20230126.pth \\\n",
    "        --input data/test/mother_wx.mp4 \\\n",
    "        --output-root outputs/B1_RTM_2 \\\n",
    "        --device cuda:0 \\\n",
    "        --bbox-thr 0.5 \\\n",
    "        --kpt-thr 0.5 \\\n",
    "        --nms-thr 0.3 \\\n",
    "        --radius 5 \\\n",
    "        --thickness 2 \\\n",
    "        --draw-bbox \\\n",
    "        --draw-heatmap \\\n",
    "        --show-kpt-idx"
   ]
  },
  {
   "cell_type": "code",
   "execution_count": null,
   "id": "3f18b27e-1e97-45f7-b2e6-57215bfa6de2",
   "metadata": {},
   "outputs": [],
   "source": []
  }
 ],
 "metadata": {
  "kernelspec": {
   "display_name": "Python 3 (ipykernel)",
   "language": "python",
   "name": "python3"
  },
  "language_info": {
   "codemirror_mode": {
    "name": "ipython",
    "version": 3
   },
   "file_extension": ".py",
   "mimetype": "text/x-python",
   "name": "python",
   "nbconvert_exporter": "python",
   "pygments_lexer": "ipython3",
   "version": "3.8.18"
  }
 },
 "nbformat": 4,
 "nbformat_minor": 5
}
