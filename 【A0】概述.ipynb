{
 "cells": [
  {
   "cell_type": "markdown",
   "id": "b997957a-ee06-4194-8eac-c9ff6bf8930f",
   "metadata": {},
   "source": [
    "概述 — MMPose 1.2.0 文档\n",
    "\n",
    "[概述 — MMPose 1.2.0 文档](https://mmpose.readthedocs.io/zh-cn/latest/overview.html)"
   ]
  },
  {
   "cell_type": "markdown",
   "id": "4219b911-3e91-4ed5-bf03-e89336c24be9",
   "metadata": {
    "tags": []
   },
   "source": [
    "# 概述\n",
    "\n",
    "以人脸关键点检测场景为目标，结合OpenMMLab开源目标检测算法库MMDetection、开源关键点检测算法库MMPose、开源模型部署算法库MMDeploy，全面实现项目全流程：\n",
    "\n",
    "- 数据集：Labelme标注数据集、整理标注格式至MS COCO\n",
    "\n",
    "- 目标检测：分别训练`Faster R CNN`和`RTMDet-Tiny`目标检测模型、训练日志可视化、测试集评估、对图像、摄像头画面预测\n",
    "\n",
    "- 关键点检测：训练`RTMPose-S`关键点检测模型、训练日志可视化、测试集上评估、分别对“图像、视频、摄像头画面”预测\n",
    "\n",
    "- 模型终端部署：转ONNX格式，终端推理"
   ]
  },
  {
   "cell_type": "code",
   "execution_count": null,
   "id": "d48b4e16-3706-44c7-a251-a1f25919815b",
   "metadata": {},
   "outputs": [],
   "source": []
  }
 ],
 "metadata": {
  "kernelspec": {
   "display_name": "Python 3 (ipykernel)",
   "language": "python",
   "name": "python3"
  },
  "language_info": {
   "codemirror_mode": {
    "name": "ipython",
    "version": 3
   },
   "file_extension": ".py",
   "mimetype": "text/x-python",
   "name": "python",
   "nbconvert_exporter": "python",
   "pygments_lexer": "ipython3",
   "version": "3.8.18"
  }
 },
 "nbformat": 4,
 "nbformat_minor": 5
}
