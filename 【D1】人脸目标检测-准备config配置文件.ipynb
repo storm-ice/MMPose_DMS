{
 "cells": [
  {
   "cell_type": "markdown",
   "id": "9f0ab39e-b0e1-4626-92a2-db87093f181b",
   "metadata": {},
   "source": [
    "如何看懂配置文件 — MMPose 1.2.0 文档\n",
    "\n",
    "\r\n",
    "[如何看懂配置文件 — MMPose 1.2.0 文档](https://mmpose.readthedocs.io/zh-cn/latest/user_guides/configs.html)"
   ]
  },
  {
   "cell_type": "code",
   "execution_count": null,
   "id": "6a9825f4-2859-4603-8280-f5f25a6f14c1",
   "metadata": {},
   "outputs": [],
   "source": [
    "# 人脸目标检测\r\n",
    "# 配置文件\r\n",
    "demo/mmdetection_cfg/yolox-s_8xb8-300e_coco-face.py \r\n",
    "# 模型文件\r\n",
    "https://download.openmmlab.com/mmpose/mmdet_pretrained/yolo-x_8xb8-300e_coco-face_13274d7c.pth\r\n",
    "checkpoint/yolo-x_8xb8-300e_coco-face_13274d7c.pth"
   ]
  },
  {
   "cell_type": "markdown",
   "id": "c61211b3-6d79-4f9b-8cad-9cd42cac4c8d",
   "metadata": {},
   "source": [
    "# 人脸目标检测-准备config配置文件"
   ]
  },
  {
   "cell_type": "markdown",
   "id": "98bd10f1-2cf7-4047-a3bc-4f830def6b9d",
   "metadata": {},
   "source": [
    "# 进入 mmpose 主目录 或 mmdetection 主目录\n"
   ]
  },
  {
   "cell_type": "code",
   "execution_count": 1,
   "id": "a2f4b9d3-fa34-442e-9bd5-37c33f1f1dc6",
   "metadata": {},
   "outputs": [],
   "source": [
    "import os\n",
    "# os.chdir('mmpose')\n",
    "os.chdir('mmdetection')"
   ]
  },
  {
   "cell_type": "markdown",
   "id": "9f49d9da-4c3d-4a29-8859-299165a92a5a",
   "metadata": {},
   "source": [
    "## 编辑config配置文件,移动至`data`目录"
   ]
  },
  {
   "cell_type": "code",
   "execution_count": 3,
   "id": "aa5dd88c-16ec-4592-8ca1-3b2910d2a500",
   "metadata": {},
   "outputs": [],
   "source": [
    "# Faster R CNN 人脸目标检测\n",
    "# data/faster_r_cnn_lapa.py"
   ]
  },
  {
   "cell_type": "code",
   "execution_count": null,
   "id": "358c702f-20ee-4d2c-93b2-90509166d966",
   "metadata": {},
   "outputs": [],
   "source": [
    "# RTMDet-Tiny 人脸目标检测\n",
    "# data/rtmdet_tiny_lapa.py"
   ]
  }
 ],
 "metadata": {
  "kernelspec": {
   "display_name": "Python 3 (ipykernel)",
   "language": "python",
   "name": "python3"
  },
  "language_info": {
   "codemirror_mode": {
    "name": "ipython",
    "version": 3
   },
   "file_extension": ".py",
   "mimetype": "text/x-python",
   "name": "python",
   "nbconvert_exporter": "python",
   "pygments_lexer": "ipython3",
   "version": "3.8.18"
  }
 },
 "nbformat": 4,
 "nbformat_minor": 5
}
