{
 "cells": [
  {
   "cell_type": "markdown",
   "id": "c61211b3-6d79-4f9b-8cad-9cd42cac4c8d",
   "metadata": {},
   "source": [
    "# 人脸关键点检测-编辑config配置文件\n"
   ]
  },
  {
   "cell_type": "markdown",
   "id": "fd16c94e-6a35-4acd-a03d-78122065d7bb",
   "metadata": {},
   "source": [
    "mmpose/configs/face_2d_keypoint/rtmpose/lapa/rtmpose-m_8xb64-120e_lapa-256x256.py at dev-1.x \n",
    "· open-mmlab/mmpose\n",
    "\r\n",
    "[mmpose/configs/face_2d_keypoint/rtmpose/lapa/rtmpose-m_8xb64-120e_lapa-256x256.py at dev-1.x · open-mmlab/mmpose](https://github.com/open-mmlab/mmpose/blob/dev-1.x/configs/face_2d_keypoint/rtmpose/lapa/rtmpose-m_8xb64-120e_lapa-256x256.py)\r\n",
    "\r\n"
   ]
  },
  {
   "cell_type": "markdown",
   "id": "e6eb2b81-fd43-461f-b614-2f94bb7efdff",
   "metadata": {},
   "source": [
    "Face 2D Keypoint — MMPose 1.2.0 文档\n",
    "\r\n",
    "[Face 2D Keypoint — MMPose 1.2.0 文档](https://mmpose.readthedocs.io/zh-cn/latest/model_zoo/face_2d_keypoint.html#lapa-dataset)"
   ]
  },
  {
   "cell_type": "markdown",
   "id": "5bbb24a2-6d24-47cb-93b1-abe14d0523e8",
   "metadata": {
    "tags": []
   },
   "source": [
    "## 进入 mmpose 主目录"
   ]
  },
  {
   "cell_type": "code",
   "execution_count": 1,
   "id": "dbbd6d2c-878d-43c3-bec4-d4f4fe94efd4",
   "metadata": {},
   "outputs": [],
   "source": [
    "import os\n",
    "os.chdir('mmpose')"
   ]
  },
  {
   "cell_type": "code",
   "execution_count": 2,
   "id": "48bd6aa1-746d-4b54-b29e-8f078f670db5",
   "metadata": {},
   "outputs": [
    {
     "name": "stdout",
     "output_type": "stream",
     "text": [
      "/e/openmmlab/MMPose_Tutorials/2023/0524/mmpose\n"
     ]
    }
   ],
   "source": [
    "!pwd"
   ]
  },
  {
   "cell_type": "markdown",
   "id": "4987be2c-d1e5-407a-886c-b1aaa93881df",
   "metadata": {},
   "source": [
    "## 编辑config配置文件至`data`目录"
   ]
  },
  {
   "cell_type": "code",
   "execution_count": null,
   "id": "f3417a1f-7fb3-4642-a739-c6006e81646f",
   "metadata": {},
   "outputs": [],
   "source": [
    "configs/face_2d_keypoint/rtmpose/lapa/rtmpose-m_8xb64-120e_lapa-256x256.py"
   ]
  }
 ],
 "metadata": {
  "kernelspec": {
   "display_name": "Python 3 (ipykernel)",
   "language": "python",
   "name": "python3"
  },
  "language_info": {
   "codemirror_mode": {
    "name": "ipython",
    "version": 3
   },
   "file_extension": ".py",
   "mimetype": "text/x-python",
   "name": "python",
   "nbconvert_exporter": "python",
   "pygments_lexer": "ipython3",
   "version": "3.8.18"
  }
 },
 "nbformat": 4,
 "nbformat_minor": 5
}
