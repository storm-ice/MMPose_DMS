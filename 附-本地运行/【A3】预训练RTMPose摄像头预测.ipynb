{
 "cells": [
  {
   "cell_type": "markdown",
   "id": "dbf79b2f-99ef-47ce-9090-f405338b0c20",
   "metadata": {},
   "source": [
    "# 预训练RTMPose摄像头预测\n",
    "\n",
    "同济子豪兄 2023-5-18 5-23"
   ]
  },
  {
   "cell_type": "markdown",
   "id": "f58e8eff-843b-4dac-800b-87a59a614912",
   "metadata": {},
   "source": [
    "## 进入mmpose目录"
   ]
  },
  {
   "cell_type": "code",
   "execution_count": 8,
   "id": "29802c1d-12f3-40b3-bf91-865cf8a0c870",
   "metadata": {},
   "outputs": [],
   "source": [
    "import os\n",
    "os.chdir('mmpose')"
   ]
  },
  {
   "cell_type": "code",
   "execution_count": 5,
   "id": "f1d3e2f8-c4d2-4dda-9388-df3b319d99bb",
   "metadata": {},
   "outputs": [],
   "source": [
    "# import os\n",
    "# os.chdir('..')"
   ]
  },
  {
   "cell_type": "code",
   "execution_count": 21,
   "id": "b972b03b-5182-43f5-a462-c704eaade19c",
   "metadata": {},
   "outputs": [
    {
     "name": "stdout",
     "output_type": "stream",
     "text": [
      "/e/openmmlab/MMPose_Tutorials/2023/0524/mmpose\n"
     ]
    }
   ],
   "source": [
    "!pwd"
   ]
  },
  {
   "cell_type": "markdown",
   "id": "54dd745d-936c-473b-8240-c791b860714d",
   "metadata": {},
   "source": [
    "## 预训练模型\n",
    "\n",
    "RTMDet：https://github.com/open-mmlab/mmdetection/tree/3.x/configs/rtmdet\n",
    "\n",
    "RTMPose：https://github.com/open-mmlab/mmpose/tree/dev-1.x/projects/rtmpose"
   ]
  },
  {
   "cell_type": "markdown",
   "id": "390c0ff0-a12f-4157-ac1e-8c95b087f7f5",
   "metadata": {},
   "source": [
    "## 摄像头预测"
   ]
  },
  {
   "cell_type": "code",
   "execution_count": 28,
   "id": "f651f3e6-02d3-4cbd-b260-df2a3e96a39a",
   "metadata": {},
   "outputs": [
    {
     "name": "stdout",
     "output_type": "stream",
     "text": [
      " [INFO] [DSH]  python.exe\n",
      " [INFO] [DSH]  Creating WndMsg Listener Window\n",
      " [INFO] [DSH]  Requested to perform initializing sequence\n",
      " [INFO] [DSH]  Performing initializing sequence\n",
      " [INFO] [DSH]  Get MessageBus interface succeeded\n",
      " [WARN] [DSH]  MessageBus perform initialize in progress\n",
      " [WARN] [DSH]  MessageBus perform start in progress\n",
      " [INFO] [MBHB] Updating MB Status\n",
      " [INFO] [MBHB] Previous marked bus status : Reserved : 0 | Core : 0 | NvContainer Plugin : 0 | DShow Filter : 0 | Camera UI Backend : 0 | Audio UI Backend : 0 | \n",
      " [INFO] [MBHB] Bus connected. (5) peers connected : Audio UI Backend, Core, DShow Filter, NvContainer Plugin, Camera UI Backend\n",
      " [INFO] [MBHB] Marked joined / connected for module (1) Core\n",
      " [INFO] [MBHB] Marked joined / connected for module (2) NvContainer Plugin\n",
      " [INFO] [MBHB] Marked joined / connected for module (3) DShow Filter\n",
      " [INFO] [DSH]  Self joined the MessageBus\n",
      " [INFO] [MBHB] Marked joined / connected for module (4) Camera UI Backend\n",
      " [INFO] [MBHB] Marked joined / connected for module (5) Audio UI Backend\n",
      " [INFO] [DSH]  Request to get container state\n",
      " [INFO] [MBHB] Updated marked bus status  : Reserved : 0 | Core : 1 | NvContainer Plugin : 1 | DShow Filter : 1 | Camera UI Backend : 1 | Audio UI Backend : 1 | \n",
      " [INFO] [DSH]  Successfully fetched the GPU details\n",
      " [INFO] [DSH]  Found matching GPU for CUDA and D3D\n",
      " [INFO] [DSH]  Chosen GPU for D3D: (0) NVIDIA GeForce RTX 3060 Laptop GPU : 76820, 0\n",
      " [INFO] [DSH]  Request to start core exe\n",
      " [INFO] [DSH]  Core reported already running -- Verifying\n",
      " [INFO] [DSH]  Verified core exe started\n",
      " [INFO] [DSH]  Request to wait for core launch init\n",
      " [INFO] [DSH]  Core launch init is done\n",
      " [INFO] [DSH]  Request to post cmd for core init\n",
      " [ERR ] [DSH]  Cannot initialize core right now\n",
      " [ERR ] [DSH]  Out stream init res failed\n",
      " [INFO] [DSH]  Destroying D3D SH Object\n",
      " [INFO] [DSH]  Released ImmCtx\n",
      " [INFO] [DSH]  Released D3D Device\n",
      " [INFO] [DSH]  Released Adapter\n",
      " [INFO] [DSH]  Released DXGI Factory\n",
      " [ERR ] [DSH]  get src init failed\n",
      " [INFO] [DSH]  Destroying parent object\n",
      " [INFO] [DSH]  Destroying WndMsg Listener Window\n",
      " [INFO] [DSH]  Destroyed window\n",
      " [INFO] [DSH]  Unregistered window class\n",
      "Loads checkpoint by http backend from path: https://download.openmmlab.com/mmdetection/v3.0/rtmdet/rtmdet_tiny_8xb32-300e_coco/rtmdet_tiny_8xb32-300e_coco_20220902_112414-78e30dcc.pth\n",
      "The model and loaded state dict do not match exactly\n",
      "\n",
      "unexpected key in source state_dict: data_preprocessor.mean, data_preprocessor.std\n",
      "\n",
      "Loads checkpoint by local backend from path: checkpoint/rtmpose-s-triangle-300-32642023_20230524.pth\n"
     ]
    },
    {
     "name": "stderr",
     "output_type": "stream",
     "text": [
      "[ERROR:0@5.458] global obsensor_uvc_stream_channel.cpp:156 cv::obsensor::getStreamChannelGroup Camera index out of range\n",
      "D:\\Anaconda3\\envs\\openmmlab\\lib\\site-packages\\mmengine\\visualization\\visualizer.py:196: UserWarning: Failed to add <class 'mmengine.visualization.vis_backend.LocalVisBackend'>, please provide the `save_dir` argument.\n",
      "  warnings.warn(f'Failed to add {vis_backend.__class__}, '\n"
     ]
    }
   ],
   "source": [
    "# RTMDet --> RTMPose\n",
    "!python demo/topdown_demo_with_mmdet.py \\\n",
    "        ../mmdetection/configs/rtmdet/rtmdet_tiny_8xb32-300e_coco.py \\\n",
    "        https://download.openmmlab.com/mmdetection/v3.0/rtmdet/rtmdet_tiny_8xb32-300e_coco/rtmdet_tiny_8xb32-300e_coco_20220902_112414-78e30dcc.pth \\\n",
    "        data/rtmpose-s-triangle.py \\\n",
    "        checkpoint/rtmpose-s-triangle-300-32642023_20230524.pth \\\n",
    "        --input webcam \\\n",
    "        --output-root outputs/G2_Video \\\n",
    "        --device cpu \\\n",
    "        --bbox-thr 0.6 \\\n",
    "        --kpt-thr 0.5 \\\n",
    "        --nms-thr 0.3 \\\n",
    "        --radius 16 \\\n",
    "        --thickness 3 \\\n",
    "        --draw-bbox \\\n",
    "        --draw-heatmap \\\n",
    "        --show-kpt-idx \\\n",
    "        --show "
   ]
  },
  {
   "cell_type": "code",
   "execution_count": null,
   "id": "cccd860a-e2f8-4f00-9069-9e07c4c2188a",
   "metadata": {},
   "outputs": [],
   "source": []
  }
 ],
 "metadata": {
  "kernelspec": {
   "display_name": "Python 3 (ipykernel)",
   "language": "python",
   "name": "python3"
  },
  "language_info": {
   "codemirror_mode": {
    "name": "ipython",
    "version": 3
   },
   "file_extension": ".py",
   "mimetype": "text/x-python",
   "name": "python",
   "nbconvert_exporter": "python",
   "pygments_lexer": "ipython3",
   "version": "3.8.18"
  }
 },
 "nbformat": 4,
 "nbformat_minor": 5
}
