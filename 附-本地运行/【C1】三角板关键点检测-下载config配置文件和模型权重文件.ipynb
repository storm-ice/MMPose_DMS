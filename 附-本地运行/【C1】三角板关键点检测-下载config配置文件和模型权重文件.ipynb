{
 "cells": [
  {
   "cell_type": "markdown",
   "id": "71102b45",
   "metadata": {},
   "source": [
    "# 三角板关键点检测-下载config配置文件和checkpoint模型权重文件\n",
    "\n",
    "同济子豪兄 2023-4-6 5-24"
   ]
  },
  {
   "cell_type": "markdown",
   "id": "fd7f4b63",
   "metadata": {},
   "source": [
    "## 进入mmpose主目录"
   ]
  },
  {
   "cell_type": "code",
   "execution_count": 4,
   "id": "3fd43ec7",
   "metadata": {},
   "outputs": [],
   "source": [
    "import os\n",
    "os.chdir('mmpose')"
   ]
  },
  {
   "cell_type": "code",
   "execution_count": 2,
   "id": "d2194a49-e8a2-4b2a-926b-5246a2276097",
   "metadata": {},
   "outputs": [],
   "source": [
    "import os\n",
    "os.chdir('..')"
   ]
  },
  {
   "cell_type": "code",
   "execution_count": 5,
   "id": "c55434a5-d7e4-411e-8eae-0cae168215f5",
   "metadata": {},
   "outputs": [
    {
     "name": "stdout",
     "output_type": "stream",
     "text": [
      "/e/openmmlab/MMPose_Tutorials/2023/0524/mmpose\n"
     ]
    }
   ],
   "source": [
    "!pwd"
   ]
  },
  {
   "cell_type": "markdown",
   "id": "2eb33ded",
   "metadata": {},
   "source": [
    "## 下载config配置文件至`data`目录"
   ]
  },
  {
   "cell_type": "code",
   "execution_count": 2,
   "id": "1dcc11b7",
   "metadata": {},
   "outputs": [],
   "source": [
    "# RTMPose-S 三角板关键点检测\n",
    "# !rm -rf data/rtmpose-s-triangle.py\n",
    "!wget https://github.com/open-mmlab/mmpose/blob/dev-1.x/configs/face_2d_keypoint/rtmpose/lapa/rtmpose-m_8xb64-120e_lapa-256x256.py -P data\n"
   ]
  },
  {
   "cell_type": "markdown",
   "id": "0aa74e42",
   "metadata": {},
   "source": [
    "## 下载模型权重文件至`checkpoint`目录"
   ]
  },
  {
   "cell_type": "code",
   "execution_count": 1,
   "id": "b405ef83",
   "metadata": {},
   "outputs": [],
   "source": [
    "# RTMDet-S 三角板目标检测\n",
    "# !rm -rf checkpoint/rtmpose-s-triangle-300-32642023_20230524.pth\n",
    "!wget https://download.openmmlab.com/mmpose/v1/projects/rtmposev1/rtmpose-m_simcc-lapa_pt-aic-coco_120e-256x256-762b1ae2_20230422.pth -P checkpoint\n"
   ]
  },
  {
   "cell_type": "code",
   "execution_count": null,
   "id": "dc891f9b",
   "metadata": {},
   "outputs": [],
   "source": []
  }
 ],
 "metadata": {
  "kernelspec": {
   "display_name": "Python 3 (ipykernel)",
   "language": "python",
   "name": "python3"
  },
  "language_info": {
   "codemirror_mode": {
    "name": "ipython",
    "version": 3
   },
   "file_extension": ".py",
   "mimetype": "text/x-python",
   "name": "python",
   "nbconvert_exporter": "python",
   "pygments_lexer": "ipython3",
   "version": "3.8.18"
  }
 },
 "nbformat": 4,
 "nbformat_minor": 5
}
