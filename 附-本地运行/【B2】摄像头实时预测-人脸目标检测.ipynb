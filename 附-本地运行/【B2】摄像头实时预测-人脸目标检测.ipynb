{
 "cells": [
  {
   "cell_type": "markdown",
   "id": "0dce0462",
   "metadata": {},
   "source": [
    "# 摄像头实时预测-人脸目标检测"
   ]
  },
  {
   "cell_type": "markdown",
   "id": "b04efb4a",
   "metadata": {},
   "source": [
    "## 进入MMDetection主目录"
   ]
  },
  {
   "cell_type": "code",
   "execution_count": 5,
   "id": "90d85a33",
   "metadata": {},
   "outputs": [],
   "source": [
    "import os\n",
    "os.chdir('mmdetection')\n",
    "# os.chdir('mmpose')"
   ]
  },
  {
   "cell_type": "code",
   "execution_count": 3,
   "id": "49fa38fb-3208-49ad-9651-498c488fcd01",
   "metadata": {},
   "outputs": [],
   "source": [
    "import os\n",
    "os.chdir('..')"
   ]
  },
  {
   "cell_type": "code",
   "execution_count": 6,
   "id": "f6af6204-05d3-4a38-bfb8-85099907fd21",
   "metadata": {},
   "outputs": [
    {
     "name": "stdout",
     "output_type": "stream",
     "text": [
      "/e/openmmlab/MMPose_DMS/mmdetection\n"
     ]
    }
   ],
   "source": [
    "!pwd"
   ]
  },
  {
   "cell_type": "markdown",
   "id": "faeaf578",
   "metadata": {},
   "source": [
    "## 调用摄像头实时预测（按ESC键退出）"
   ]
  },
  {
   "cell_type": "code",
   "execution_count": 6,
   "id": "b7cb6a9c",
   "metadata": {},
   "outputs": [
    {
     "name": "stdout",
     "output_type": "stream",
     "text": [
      "Loads checkpoint by local backend from path: checkpoint/yolo-x_8xb8-300e_coco-face_13274d7c.pth\n",
      "Press \"Esc\", \"q\" or \"Q\" to exit.\n"
     ]
    },
    {
     "name": "stderr",
     "output_type": "stream",
     "text": [
      "D:\\Anaconda3\\envs\\openmmlab\\lib\\site-packages\\mmengine\\visualization\\visualizer.py:196: UserWarning: Failed to add <class 'mmengine.visualization.vis_backend.LocalVisBackend'>, please provide the `save_dir` argument.\n",
      "  warnings.warn(f'Failed to add {vis_backend.__class__}, '\n",
      "D:\\Anaconda3\\envs\\openmmlab\\lib\\site-packages\\torch\\functional.py:504: UserWarning: torch.meshgrid: in an upcoming release, it will be required to pass the indexing argument. (Triggered internally at C:\\cb\\pytorch_1000000000000\\work\\aten\\src\\ATen\\native\\TensorShape.cpp:3527.)\n",
      "  return _VF.meshgrid(tensors, **kwargs)  # type: ignore[attr-defined]\n"
     ]
    }
   ],
   "source": [
    "# RTMDet 人脸目标检测\n",
    "!python demo/webcam_demo.py \\\n",
    "        data/yolox-s_8xb8-300e_coco-face.py  \\\n",
    "        checkpoint/yolo-x_8xb8-300e_coco-face_13274d7c.pth\\\n",
    "        --device cpu \\\n",
    "        --camera-id 0 \\\n",
    "        --score-thr 0.5"
   ]
  },
  {
   "cell_type": "code",
   "execution_count": null,
   "id": "8ea988e9",
   "metadata": {},
   "outputs": [],
   "source": [
    "# # Faster R CNN 人脸目标检测 运行太慢\n",
    "# !python demo/webcam_demo.py \\\n",
    "#         data/faster_r_cnn_triangle.py \\\n",
    "#         checkpoint/faster_r_cnn_triangle_epoch_50_202304052050-1e56824f.pth \\\n",
    "#         --device cpu \\\n",
    "#         --camera-id 0 \\\n",
    "#         --score-thr 0.5"
   ]
  },
  {
   "cell_type": "code",
   "execution_count": 22,
   "id": "59bdade7-daa1-4c27-956e-f2e1cde4013d",
   "metadata": {},
   "outputs": [
    {
     "name": "stderr",
     "output_type": "stream",
     "text": [
      "Traceback (most recent call last):\n",
      "  File \"demo/webcam_demo.py\", line 65, in <module>\n",
      "    main()\n",
      "  File \"demo/webcam_demo.py\", line 31, in main\n",
      "    model = init_detector(args.config, args.checkpoint, device=device)\n",
      "  File \"D:\\Anaconda3\\envs\\openmmlab\\lib\\site-packages\\mmdet\\apis\\inference.py\", line 53, in init_detector\n",
      "    config = Config.fromfile(config)\n",
      "  File \"D:\\Anaconda3\\envs\\openmmlab\\lib\\site-packages\\mmengine\\config\\config.py\", line 456, in fromfile\n",
      "    lazy_import is None and not Config._is_lazy_import(filename):\n",
      "  File \"D:\\Anaconda3\\envs\\openmmlab\\lib\\site-packages\\mmengine\\config\\config.py\", line 1655, in _is_lazy_import\n",
      "    with open(filename, encoding='utf-8') as f:\n",
      "FileNotFoundError: [Errno 2] No such file or directory: 'demo/mmdetection_cfg/yolox-s_8xb8-300e_coco-face.py'\n"
     ]
    }
   ],
   "source": [
    "# YOLOX 人脸目标检测\n",
    "!python demo/webcam_demo.py \\\n",
    "        demo/mmdetection_cfg/yolox-s_8xb8-300e_coco-face.py  \\\n",
    "        checkpoint/yolo-x_8xb8-300e_coco-face_13274d7c.pth\\\n",
    "        --device cpu \\\n",
    "        --camera-id 0 \\\n",
    "        --score-thr 0.5"
   ]
  },
  {
   "cell_type": "code",
   "execution_count": 7,
   "id": "91b7bba2-90c4-4466-aee7-97cba769960b",
   "metadata": {},
   "outputs": [
    {
     "name": "stdout",
     "output_type": "stream",
     "text": [
      "Loads checkpoint by local backend from path: checkpoint/rtmdet_tiny_lapa_best_coco_bbox_mAP_epoch_6.pth\n",
      "Press \"Esc\", \"q\" or \"Q\" to exit.\n"
     ]
    },
    {
     "name": "stderr",
     "output_type": "stream",
     "text": [
      "D:\\Anaconda3\\envs\\openmmlab\\lib\\site-packages\\mmengine\\visualization\\visualizer.py:196: UserWarning: Failed to add <class 'mmengine.visualization.vis_backend.LocalVisBackend'>, please provide the `save_dir` argument.\n",
      "  warnings.warn(f'Failed to add {vis_backend.__class__}, '\n",
      "D:\\Anaconda3\\envs\\openmmlab\\lib\\site-packages\\torch\\functional.py:504: UserWarning: torch.meshgrid: in an upcoming release, it will be required to pass the indexing argument. (Triggered internally at C:\\cb\\pytorch_1000000000000\\work\\aten\\src\\ATen\\native\\TensorShape.cpp:3527.)\n",
      "  return _VF.meshgrid(tensors, **kwargs)  # type: ignore[attr-defined]\n"
     ]
    }
   ],
   "source": [
    "# rtmdet 人脸目标检测\n",
    "!python demo/webcam_demo.py \\\n",
    "        data/rtmdet_tiny_lapa.py   \\\n",
    "        checkpoint/rtmdet_tiny_lapa_best_coco_bbox_mAP_epoch_6.pth \\\n",
    "        --device cpu \\\n",
    "        --camera-id 0 \\\n",
    "        --score-thr 0.5"
   ]
  },
  {
   "cell_type": "code",
   "execution_count": null,
   "id": "faa9dca0-c856-4654-b15c-58cd16347a0d",
   "metadata": {},
   "outputs": [],
   "source": []
  }
 ],
 "metadata": {
  "kernelspec": {
   "display_name": "Python 3 (ipykernel)",
   "language": "python",
   "name": "python3"
  },
  "language_info": {
   "codemirror_mode": {
    "name": "ipython",
    "version": 3
   },
   "file_extension": ".py",
   "mimetype": "text/x-python",
   "name": "python",
   "nbconvert_exporter": "python",
   "pygments_lexer": "ipython3",
   "version": "3.8.18"
  }
 },
 "nbformat": 4,
 "nbformat_minor": 5
}
