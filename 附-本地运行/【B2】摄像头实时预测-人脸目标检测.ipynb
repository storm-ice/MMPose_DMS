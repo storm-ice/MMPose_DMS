{
 "cells": [
  {
   "cell_type": "markdown",
   "id": "0dce0462",
   "metadata": {},
   "source": [
    "# 摄像头实时预测-人脸目标检测"
   ]
  },
  {
   "cell_type": "markdown",
   "id": "b04efb4a",
   "metadata": {},
   "source": [
    "## 进入MMDetection主目录"
   ]
  },
  {
   "cell_type": "code",
   "execution_count": 4,
   "id": "90d85a33",
   "metadata": {},
   "outputs": [],
   "source": [
    "import os\n",
    "os.chdir('mmdetection')\n",
    "# os.chdir('mmpose')"
   ]
  },
  {
   "cell_type": "code",
   "execution_count": 2,
   "id": "49fa38fb-3208-49ad-9651-498c488fcd01",
   "metadata": {},
   "outputs": [],
   "source": [
    "import os\n",
    "os.chdir('..')"
   ]
  },
  {
   "cell_type": "code",
   "execution_count": 5,
   "id": "f6af6204-05d3-4a38-bfb8-85099907fd21",
   "metadata": {},
   "outputs": [
    {
     "name": "stdout",
     "output_type": "stream",
     "text": [
      "/e/openmmlab/MMPose_DMS/mmdetection\n"
     ]
    }
   ],
   "source": [
    "!pwd"
   ]
  },
  {
   "cell_type": "markdown",
   "id": "faeaf578",
   "metadata": {},
   "source": [
    "## 调用摄像头实时预测（按ESC键退出）"
   ]
  },
  {
   "cell_type": "code",
   "execution_count": 6,
   "id": "b7cb6a9c",
   "metadata": {},
   "outputs": [
    {
     "name": "stdout",
     "output_type": "stream",
     "text": [
      "Loads checkpoint by local backend from path: checkpoint/yolo-x_8xb8-300e_coco-face_13274d7c.pth\n",
      "Press \"Esc\", \"q\" or \"Q\" to exit.\n"
     ]
    },
    {
     "name": "stderr",
     "output_type": "stream",
     "text": [
      "D:\\Anaconda3\\envs\\openmmlab\\lib\\site-packages\\mmengine\\visualization\\visualizer.py:196: UserWarning: Failed to add <class 'mmengine.visualization.vis_backend.LocalVisBackend'>, please provide the `save_dir` argument.\n",
      "  warnings.warn(f'Failed to add {vis_backend.__class__}, '\n",
      "D:\\Anaconda3\\envs\\openmmlab\\lib\\site-packages\\torch\\functional.py:504: UserWarning: torch.meshgrid: in an upcoming release, it will be required to pass the indexing argument. (Triggered internally at C:\\cb\\pytorch_1000000000000\\work\\aten\\src\\ATen\\native\\TensorShape.cpp:3527.)\n",
      "  return _VF.meshgrid(tensors, **kwargs)  # type: ignore[attr-defined]\n"
     ]
    }
   ],
   "source": [
    "# RTMDet 人脸目标检测\n",
    "!python demo/webcam_demo.py \\\n",
    "        data/yolox-s_8xb8-300e_coco-face.py  \\\n",
    "        checkpoint/yolo-x_8xb8-300e_coco-face_13274d7c.pth\\\n",
    "        --device cpu \\\n",
    "        --camera-id 0 \\\n",
    "        --score-thr 0.5"
   ]
  },
  {
   "cell_type": "code",
   "execution_count": null,
   "id": "8ea988e9",
   "metadata": {},
   "outputs": [],
   "source": [
    "# # Faster R CNN 三角板目标检测 运行太慢\n",
    "# !python demo/webcam_demo.py \\\n",
    "#         data/faster_r_cnn_triangle.py \\\n",
    "#         checkpoint/faster_r_cnn_triangle_epoch_50_202304052050-1e56824f.pth \\\n",
    "#         --device cpu \\\n",
    "#         --camera-id 0 \\\n",
    "#         --score-thr 0.5"
   ]
  },
  {
   "cell_type": "code",
   "execution_count": 22,
   "id": "59bdade7-daa1-4c27-956e-f2e1cde4013d",
   "metadata": {},
   "outputs": [
    {
     "name": "stderr",
     "output_type": "stream",
     "text": [
      "Traceback (most recent call last):\n",
      "  File \"demo/webcam_demo.py\", line 65, in <module>\n",
      "    main()\n",
      "  File \"demo/webcam_demo.py\", line 31, in main\n",
      "    model = init_detector(args.config, args.checkpoint, device=device)\n",
      "  File \"D:\\Anaconda3\\envs\\openmmlab\\lib\\site-packages\\mmdet\\apis\\inference.py\", line 53, in init_detector\n",
      "    config = Config.fromfile(config)\n",
      "  File \"D:\\Anaconda3\\envs\\openmmlab\\lib\\site-packages\\mmengine\\config\\config.py\", line 456, in fromfile\n",
      "    lazy_import is None and not Config._is_lazy_import(filename):\n",
      "  File \"D:\\Anaconda3\\envs\\openmmlab\\lib\\site-packages\\mmengine\\config\\config.py\", line 1655, in _is_lazy_import\n",
      "    with open(filename, encoding='utf-8') as f:\n",
      "FileNotFoundError: [Errno 2] No such file or directory: 'demo/mmdetection_cfg/yolox-s_8xb8-300e_coco-face.py'\n"
     ]
    }
   ],
   "source": [
    "# YOLOX 人脸目标检测\n",
    "!python demo/webcam_demo.py \\\n",
    "        demo/mmdetection_cfg/yolox-s_8xb8-300e_coco-face.py  \\\n",
    "        checkpoint/yolo-x_8xb8-300e_coco-face_13274d7c.pth\\\n",
    "        --device cpu \\\n",
    "        --camera-id 0 \\\n",
    "        --score-thr 0.5"
   ]
  },
  {
   "cell_type": "code",
   "execution_count": 7,
   "id": "91b7bba2-90c4-4466-aee7-97cba769960b",
   "metadata": {},
   "outputs": [
    {
     "name": "stdout",
     "output_type": "stream",
     "text": [
      "Loads checkpoint by local backend from path: checkpoint/rtmdet_tiny_lapa_epoch_130.pth\n",
      "The model and loaded state dict do not match exactly\n",
      "\n",
      "size mismatch for backbone.stem.0.conv.weight: copying a param with shape torch.Size([16, 3, 3, 3]) from checkpoint, the shape in current model is torch.Size([12, 3, 3, 3]).\n",
      "size mismatch for backbone.stem.0.bn.weight: copying a param with shape torch.Size([16]) from checkpoint, the shape in current model is torch.Size([12]).\n",
      "size mismatch for backbone.stem.0.bn.bias: copying a param with shape torch.Size([16]) from checkpoint, the shape in current model is torch.Size([12]).\n",
      "size mismatch for backbone.stem.0.bn.running_mean: copying a param with shape torch.Size([16]) from checkpoint, the shape in current model is torch.Size([12]).\n",
      "size mismatch for backbone.stem.0.bn.running_var: copying a param with shape torch.Size([16]) from checkpoint, the shape in current model is torch.Size([12]).\n",
      "size mismatch for backbone.stem.1.conv.weight: copying a param with shape torch.Size([16, 16, 3, 3]) from checkpoint, the shape in current model is torch.Size([12, 12, 3, 3]).\n",
      "size mismatch for backbone.stem.1.bn.weight: copying a param with shape torch.Size([16]) from checkpoint, the shape in current model is torch.Size([12]).\n",
      "size mismatch for backbone.stem.1.bn.bias: copying a param with shape torch.Size([16]) from checkpoint, the shape in current model is torch.Size([12]).\n",
      "size mismatch for backbone.stem.1.bn.running_mean: copying a param with shape torch.Size([16]) from checkpoint, the shape in current model is torch.Size([12]).\n",
      "size mismatch for backbone.stem.1.bn.running_var: copying a param with shape torch.Size([16]) from checkpoint, the shape in current model is torch.Size([12]).\n",
      "size mismatch for backbone.stem.2.conv.weight: copying a param with shape torch.Size([32, 16, 3, 3]) from checkpoint, the shape in current model is torch.Size([24, 12, 3, 3]).\n",
      "size mismatch for backbone.stem.2.bn.weight: copying a param with shape torch.Size([32]) from checkpoint, the shape in current model is torch.Size([24]).\n",
      "size mismatch for backbone.stem.2.bn.bias: copying a param with shape torch.Size([32]) from checkpoint, the shape in current model is torch.Size([24]).\n",
      "size mismatch for backbone.stem.2.bn.running_mean: copying a param with shape torch.Size([32]) from checkpoint, the shape in current model is torch.Size([24]).\n",
      "size mismatch for backbone.stem.2.bn.running_var: copying a param with shape torch.Size([32]) from checkpoint, the shape in current model is torch.Size([24]).\n",
      "size mismatch for backbone.stage1.0.conv.weight: copying a param with shape torch.Size([64, 32, 3, 3]) from checkpoint, the shape in current model is torch.Size([48, 24, 3, 3]).\n",
      "size mismatch for backbone.stage1.0.bn.weight: copying a param with shape torch.Size([64]) from checkpoint, the shape in current model is torch.Size([48]).\n",
      "size mismatch for backbone.stage1.0.bn.bias: copying a param with shape torch.Size([64]) from checkpoint, the shape in current model is torch.Size([48]).\n",
      "size mismatch for backbone.stage1.0.bn.running_mean: copying a param with shape torch.Size([64]) from checkpoint, the shape in current model is torch.Size([48]).\n",
      "size mismatch for backbone.stage1.0.bn.running_var: copying a param with shape torch.Size([64]) from checkpoint, the shape in current model is torch.Size([48]).\n",
      "size mismatch for backbone.stage1.1.main_conv.conv.weight: copying a param with shape torch.Size([32, 64, 1, 1]) from checkpoint, the shape in current model is torch.Size([24, 48, 1, 1]).\n",
      "size mismatch for backbone.stage1.1.main_conv.bn.weight: copying a param with shape torch.Size([32]) from checkpoint, the shape in current model is torch.Size([24]).\n",
      "size mismatch for backbone.stage1.1.main_conv.bn.bias: copying a param with shape torch.Size([32]) from checkpoint, the shape in current model is torch.Size([24]).\n",
      "size mismatch for backbone.stage1.1.main_conv.bn.running_mean: copying a param with shape torch.Size([32]) from checkpoint, the shape in current model is torch.Size([24]).\n",
      "size mismatch for backbone.stage1.1.main_conv.bn.running_var: copying a param with shape torch.Size([32]) from checkpoint, the shape in current model is torch.Size([24]).\n",
      "size mismatch for backbone.stage1.1.short_conv.conv.weight: copying a param with shape torch.Size([32, 64, 1, 1]) from checkpoint, the shape in current model is torch.Size([24, 48, 1, 1]).\n",
      "size mismatch for backbone.stage1.1.short_conv.bn.weight: copying a param with shape torch.Size([32]) from checkpoint, the shape in current model is torch.Size([24]).\n",
      "size mismatch for backbone.stage1.1.short_conv.bn.bias: copying a param with shape torch.Size([32]) from checkpoint, the shape in current model is torch.Size([24]).\n",
      "size mismatch for backbone.stage1.1.short_conv.bn.running_mean: copying a param with shape torch.Size([32]) from checkpoint, the shape in current model is torch.Size([24]).\n",
      "size mismatch for backbone.stage1.1.short_conv.bn.running_var: copying a param with shape torch.Size([32]) from checkpoint, the shape in current model is torch.Size([24]).\n",
      "size mismatch for backbone.stage1.1.final_conv.conv.weight: copying a param with shape torch.Size([64, 64, 1, 1]) from checkpoint, the shape in current model is torch.Size([48, 48, 1, 1]).\n",
      "size mismatch for backbone.stage1.1.final_conv.bn.weight: copying a param with shape torch.Size([64]) from checkpoint, the shape in current model is torch.Size([48]).\n",
      "size mismatch for backbone.stage1.1.final_conv.bn.bias: copying a param with shape torch.Size([64]) from checkpoint, the shape in current model is torch.Size([48]).\n",
      "size mismatch for backbone.stage1.1.final_conv.bn.running_mean: copying a param with shape torch.Size([64]) from checkpoint, the shape in current model is torch.Size([48]).\n",
      "size mismatch for backbone.stage1.1.final_conv.bn.running_var: copying a param with shape torch.Size([64]) from checkpoint, the shape in current model is torch.Size([48]).\n",
      "size mismatch for backbone.stage1.1.blocks.0.conv1.conv.weight: copying a param with shape torch.Size([32, 32, 3, 3]) from checkpoint, the shape in current model is torch.Size([24, 24, 3, 3]).\n",
      "size mismatch for backbone.stage1.1.blocks.0.conv1.bn.weight: copying a param with shape torch.Size([32]) from checkpoint, the shape in current model is torch.Size([24]).\n",
      "size mismatch for backbone.stage1.1.blocks.0.conv1.bn.bias: copying a param with shape torch.Size([32]) from checkpoint, the shape in current model is torch.Size([24]).\n",
      "size mismatch for backbone.stage1.1.blocks.0.conv1.bn.running_mean: copying a param with shape torch.Size([32]) from checkpoint, the shape in current model is torch.Size([24]).\n",
      "size mismatch for backbone.stage1.1.blocks.0.conv1.bn.running_var: copying a param with shape torch.Size([32]) from checkpoint, the shape in current model is torch.Size([24]).\n",
      "size mismatch for backbone.stage1.1.blocks.0.conv2.depthwise_conv.conv.weight: copying a param with shape torch.Size([32, 1, 5, 5]) from checkpoint, the shape in current model is torch.Size([24, 1, 5, 5]).\n",
      "size mismatch for backbone.stage1.1.blocks.0.conv2.depthwise_conv.bn.weight: copying a param with shape torch.Size([32]) from checkpoint, the shape in current model is torch.Size([24]).\n",
      "size mismatch for backbone.stage1.1.blocks.0.conv2.depthwise_conv.bn.bias: copying a param with shape torch.Size([32]) from checkpoint, the shape in current model is torch.Size([24]).\n",
      "size mismatch for backbone.stage1.1.blocks.0.conv2.depthwise_conv.bn.running_mean: copying a param with shape torch.Size([32]) from checkpoint, the shape in current model is torch.Size([24]).\n",
      "size mismatch for backbone.stage1.1.blocks.0.conv2.depthwise_conv.bn.running_var: copying a param with shape torch.Size([32]) from checkpoint, the shape in current model is torch.Size([24]).\n",
      "size mismatch for backbone.stage1.1.blocks.0.conv2.pointwise_conv.conv.weight: copying a param with shape torch.Size([32, 32, 1, 1]) from checkpoint, the shape in current model is torch.Size([24, 24, 1, 1]).\n",
      "size mismatch for backbone.stage1.1.blocks.0.conv2.pointwise_conv.bn.weight: copying a param with shape torch.Size([32]) from checkpoint, the shape in current model is torch.Size([24]).\n",
      "size mismatch for backbone.stage1.1.blocks.0.conv2.pointwise_conv.bn.bias: copying a param with shape torch.Size([32]) from checkpoint, the shape in current model is torch.Size([24]).\n",
      "size mismatch for backbone.stage1.1.blocks.0.conv2.pointwise_conv.bn.running_mean: copying a param with shape torch.Size([32]) from checkpoint, the shape in current model is torch.Size([24]).\n",
      "size mismatch for backbone.stage1.1.blocks.0.conv2.pointwise_conv.bn.running_var: copying a param with shape torch.Size([32]) from checkpoint, the shape in current model is torch.Size([24]).\n",
      "size mismatch for backbone.stage1.1.attention.fc.weight: copying a param with shape torch.Size([64, 64, 1, 1]) from checkpoint, the shape in current model is torch.Size([48, 48, 1, 1]).\n",
      "size mismatch for backbone.stage1.1.attention.fc.bias: copying a param with shape torch.Size([64]) from checkpoint, the shape in current model is torch.Size([48]).\n",
      "size mismatch for backbone.stage2.0.conv.weight: copying a param with shape torch.Size([128, 64, 3, 3]) from checkpoint, the shape in current model is torch.Size([96, 48, 3, 3]).\n",
      "size mismatch for backbone.stage2.0.bn.weight: copying a param with shape torch.Size([128]) from checkpoint, the shape in current model is torch.Size([96]).\n",
      "size mismatch for backbone.stage2.0.bn.bias: copying a param with shape torch.Size([128]) from checkpoint, the shape in current model is torch.Size([96]).\n",
      "size mismatch for backbone.stage2.0.bn.running_mean: copying a param with shape torch.Size([128]) from checkpoint, the shape in current model is torch.Size([96]).\n",
      "size mismatch for backbone.stage2.0.bn.running_var: copying a param with shape torch.Size([128]) from checkpoint, the shape in current model is torch.Size([96]).\n",
      "size mismatch for backbone.stage2.1.main_conv.conv.weight: copying a param with shape torch.Size([64, 128, 1, 1]) from checkpoint, the shape in current model is torch.Size([48, 96, 1, 1]).\n",
      "size mismatch for backbone.stage2.1.main_conv.bn.weight: copying a param with shape torch.Size([64]) from checkpoint, the shape in current model is torch.Size([48]).\n",
      "size mismatch for backbone.stage2.1.main_conv.bn.bias: copying a param with shape torch.Size([64]) from checkpoint, the shape in current model is torch.Size([48]).\n",
      "size mismatch for backbone.stage2.1.main_conv.bn.running_mean: copying a param with shape torch.Size([64]) from checkpoint, the shape in current model is torch.Size([48]).\n",
      "size mismatch for backbone.stage2.1.main_conv.bn.running_var: copying a param with shape torch.Size([64]) from checkpoint, the shape in current model is torch.Size([48]).\n",
      "size mismatch for backbone.stage2.1.short_conv.conv.weight: copying a param with shape torch.Size([64, 128, 1, 1]) from checkpoint, the shape in current model is torch.Size([48, 96, 1, 1]).\n",
      "size mismatch for backbone.stage2.1.short_conv.bn.weight: copying a param with shape torch.Size([64]) from checkpoint, the shape in current model is torch.Size([48]).\n",
      "size mismatch for backbone.stage2.1.short_conv.bn.bias: copying a param with shape torch.Size([64]) from checkpoint, the shape in current model is torch.Size([48]).\n",
      "size mismatch for backbone.stage2.1.short_conv.bn.running_mean: copying a param with shape torch.Size([64]) from checkpoint, the shape in current model is torch.Size([48]).\n",
      "size mismatch for backbone.stage2.1.short_conv.bn.running_var: copying a param with shape torch.Size([64]) from checkpoint, the shape in current model is torch.Size([48]).\n",
      "size mismatch for backbone.stage2.1.final_conv.conv.weight: copying a param with shape torch.Size([128, 128, 1, 1]) from checkpoint, the shape in current model is torch.Size([96, 96, 1, 1]).\n",
      "size mismatch for backbone.stage2.1.final_conv.bn.weight: copying a param with shape torch.Size([128]) from checkpoint, the shape in current model is torch.Size([96]).\n",
      "size mismatch for backbone.stage2.1.final_conv.bn.bias: copying a param with shape torch.Size([128]) from checkpoint, the shape in current model is torch.Size([96]).\n",
      "size mismatch for backbone.stage2.1.final_conv.bn.running_mean: copying a param with shape torch.Size([128]) from checkpoint, the shape in current model is torch.Size([96]).\n",
      "size mismatch for backbone.stage2.1.final_conv.bn.running_var: copying a param with shape torch.Size([128]) from checkpoint, the shape in current model is torch.Size([96]).\n",
      "size mismatch for backbone.stage2.1.blocks.0.conv1.conv.weight: copying a param with shape torch.Size([64, 64, 3, 3]) from checkpoint, the shape in current model is torch.Size([48, 48, 3, 3]).\n",
      "size mismatch for backbone.stage2.1.blocks.0.conv1.bn.weight: copying a param with shape torch.Size([64]) from checkpoint, the shape in current model is torch.Size([48]).\n",
      "size mismatch for backbone.stage2.1.blocks.0.conv1.bn.bias: copying a param with shape torch.Size([64]) from checkpoint, the shape in current model is torch.Size([48]).\n",
      "size mismatch for backbone.stage2.1.blocks.0.conv1.bn.running_mean: copying a param with shape torch.Size([64]) from checkpoint, the shape in current model is torch.Size([48]).\n",
      "size mismatch for backbone.stage2.1.blocks.0.conv1.bn.running_var: copying a param with shape torch.Size([64]) from checkpoint, the shape in current model is torch.Size([48]).\n",
      "size mismatch for backbone.stage2.1.blocks.0.conv2.depthwise_conv.conv.weight: copying a param with shape torch.Size([64, 1, 5, 5]) from checkpoint, the shape in current model is torch.Size([48, 1, 5, 5]).\n",
      "size mismatch for backbone.stage2.1.blocks.0.conv2.depthwise_conv.bn.weight: copying a param with shape torch.Size([64]) from checkpoint, the shape in current model is torch.Size([48]).\n",
      "size mismatch for backbone.stage2.1.blocks.0.conv2.depthwise_conv.bn.bias: copying a param with shape torch.Size([64]) from checkpoint, the shape in current model is torch.Size([48]).\n",
      "size mismatch for backbone.stage2.1.blocks.0.conv2.depthwise_conv.bn.running_mean: copying a param with shape torch.Size([64]) from checkpoint, the shape in current model is torch.Size([48]).\n",
      "size mismatch for backbone.stage2.1.blocks.0.conv2.depthwise_conv.bn.running_var: copying a param with shape torch.Size([64]) from checkpoint, the shape in current model is torch.Size([48]).\n",
      "size mismatch for backbone.stage2.1.blocks.0.conv2.pointwise_conv.conv.weight: copying a param with shape torch.Size([64, 64, 1, 1]) from checkpoint, the shape in current model is torch.Size([48, 48, 1, 1]).\n",
      "size mismatch for backbone.stage2.1.blocks.0.conv2.pointwise_conv.bn.weight: copying a param with shape torch.Size([64]) from checkpoint, the shape in current model is torch.Size([48]).\n",
      "size mismatch for backbone.stage2.1.blocks.0.conv2.pointwise_conv.bn.bias: copying a param with shape torch.Size([64]) from checkpoint, the shape in current model is torch.Size([48]).\n",
      "size mismatch for backbone.stage2.1.blocks.0.conv2.pointwise_conv.bn.running_mean: copying a param with shape torch.Size([64]) from checkpoint, the shape in current model is torch.Size([48]).\n",
      "size mismatch for backbone.stage2.1.blocks.0.conv2.pointwise_conv.bn.running_var: copying a param with shape torch.Size([64]) from checkpoint, the shape in current model is torch.Size([48]).\n",
      "size mismatch for backbone.stage2.1.attention.fc.weight: copying a param with shape torch.Size([128, 128, 1, 1]) from checkpoint, the shape in current model is torch.Size([96, 96, 1, 1]).\n",
      "size mismatch for backbone.stage2.1.attention.fc.bias: copying a param with shape torch.Size([128]) from checkpoint, the shape in current model is torch.Size([96]).\n",
      "size mismatch for backbone.stage3.0.conv.weight: copying a param with shape torch.Size([256, 128, 3, 3]) from checkpoint, the shape in current model is torch.Size([192, 96, 3, 3]).\n",
      "size mismatch for backbone.stage3.0.bn.weight: copying a param with shape torch.Size([256]) from checkpoint, the shape in current model is torch.Size([192]).\n",
      "size mismatch for backbone.stage3.0.bn.bias: copying a param with shape torch.Size([256]) from checkpoint, the shape in current model is torch.Size([192]).\n",
      "size mismatch for backbone.stage3.0.bn.running_mean: copying a param with shape torch.Size([256]) from checkpoint, the shape in current model is torch.Size([192]).\n",
      "size mismatch for backbone.stage3.0.bn.running_var: copying a param with shape torch.Size([256]) from checkpoint, the shape in current model is torch.Size([192]).\n",
      "size mismatch for backbone.stage3.1.main_conv.conv.weight: copying a param with shape torch.Size([128, 256, 1, 1]) from checkpoint, the shape in current model is torch.Size([96, 192, 1, 1]).\n",
      "size mismatch for backbone.stage3.1.main_conv.bn.weight: copying a param with shape torch.Size([128]) from checkpoint, the shape in current model is torch.Size([96]).\n",
      "size mismatch for backbone.stage3.1.main_conv.bn.bias: copying a param with shape torch.Size([128]) from checkpoint, the shape in current model is torch.Size([96]).\n",
      "size mismatch for backbone.stage3.1.main_conv.bn.running_mean: copying a param with shape torch.Size([128]) from checkpoint, the shape in current model is torch.Size([96]).\n",
      "size mismatch for backbone.stage3.1.main_conv.bn.running_var: copying a param with shape torch.Size([128]) from checkpoint, the shape in current model is torch.Size([96]).\n",
      "size mismatch for backbone.stage3.1.short_conv.conv.weight: copying a param with shape torch.Size([128, 256, 1, 1]) from checkpoint, the shape in current model is torch.Size([96, 192, 1, 1]).\n",
      "size mismatch for backbone.stage3.1.short_conv.bn.weight: copying a param with shape torch.Size([128]) from checkpoint, the shape in current model is torch.Size([96]).\n",
      "size mismatch for backbone.stage3.1.short_conv.bn.bias: copying a param with shape torch.Size([128]) from checkpoint, the shape in current model is torch.Size([96]).\n",
      "size mismatch for backbone.stage3.1.short_conv.bn.running_mean: copying a param with shape torch.Size([128]) from checkpoint, the shape in current model is torch.Size([96]).\n",
      "size mismatch for backbone.stage3.1.short_conv.bn.running_var: copying a param with shape torch.Size([128]) from checkpoint, the shape in current model is torch.Size([96]).\n",
      "size mismatch for backbone.stage3.1.final_conv.conv.weight: copying a param with shape torch.Size([256, 256, 1, 1]) from checkpoint, the shape in current model is torch.Size([192, 192, 1, 1]).\n",
      "size mismatch for backbone.stage3.1.final_conv.bn.weight: copying a param with shape torch.Size([256]) from checkpoint, the shape in current model is torch.Size([192]).\n",
      "size mismatch for backbone.stage3.1.final_conv.bn.bias: copying a param with shape torch.Size([256]) from checkpoint, the shape in current model is torch.Size([192]).\n",
      "size mismatch for backbone.stage3.1.final_conv.bn.running_mean: copying a param with shape torch.Size([256]) from checkpoint, the shape in current model is torch.Size([192]).\n",
      "size mismatch for backbone.stage3.1.final_conv.bn.running_var: copying a param with shape torch.Size([256]) from checkpoint, the shape in current model is torch.Size([192]).\n",
      "size mismatch for backbone.stage3.1.blocks.0.conv1.conv.weight: copying a param with shape torch.Size([128, 128, 3, 3]) from checkpoint, the shape in current model is torch.Size([96, 96, 3, 3]).\n",
      "size mismatch for backbone.stage3.1.blocks.0.conv1.bn.weight: copying a param with shape torch.Size([128]) from checkpoint, the shape in current model is torch.Size([96]).\n",
      "size mismatch for backbone.stage3.1.blocks.0.conv1.bn.bias: copying a param with shape torch.Size([128]) from checkpoint, the shape in current model is torch.Size([96]).\n",
      "size mismatch for backbone.stage3.1.blocks.0.conv1.bn.running_mean: copying a param with shape torch.Size([128]) from checkpoint, the shape in current model is torch.Size([96]).\n",
      "size mismatch for backbone.stage3.1.blocks.0.conv1.bn.running_var: copying a param with shape torch.Size([128]) from checkpoint, the shape in current model is torch.Size([96]).\n",
      "size mismatch for backbone.stage3.1.blocks.0.conv2.depthwise_conv.conv.weight: copying a param with shape torch.Size([128, 1, 5, 5]) from checkpoint, the shape in current model is torch.Size([96, 1, 5, 5]).\n",
      "size mismatch for backbone.stage3.1.blocks.0.conv2.depthwise_conv.bn.weight: copying a param with shape torch.Size([128]) from checkpoint, the shape in current model is torch.Size([96]).\n",
      "size mismatch for backbone.stage3.1.blocks.0.conv2.depthwise_conv.bn.bias: copying a param with shape torch.Size([128]) from checkpoint, the shape in current model is torch.Size([96]).\n",
      "size mismatch for backbone.stage3.1.blocks.0.conv2.depthwise_conv.bn.running_mean: copying a param with shape torch.Size([128]) from checkpoint, the shape in current model is torch.Size([96]).\n",
      "size mismatch for backbone.stage3.1.blocks.0.conv2.depthwise_conv.bn.running_var: copying a param with shape torch.Size([128]) from checkpoint, the shape in current model is torch.Size([96]).\n",
      "size mismatch for backbone.stage3.1.blocks.0.conv2.pointwise_conv.conv.weight: copying a param with shape torch.Size([128, 128, 1, 1]) from checkpoint, the shape in current model is torch.Size([96, 96, 1, 1]).\n",
      "size mismatch for backbone.stage3.1.blocks.0.conv2.pointwise_conv.bn.weight: copying a param with shape torch.Size([128]) from checkpoint, the shape in current model is torch.Size([96]).\n",
      "size mismatch for backbone.stage3.1.blocks.0.conv2.pointwise_conv.bn.bias: copying a param with shape torch.Size([128]) from checkpoint, the shape in current model is torch.Size([96]).\n",
      "size mismatch for backbone.stage3.1.blocks.0.conv2.pointwise_conv.bn.running_mean: copying a param with shape torch.Size([128]) from checkpoint, the shape in current model is torch.Size([96]).\n",
      "size mismatch for backbone.stage3.1.blocks.0.conv2.pointwise_conv.bn.running_var: copying a param with shape torch.Size([128]) from checkpoint, the shape in current model is torch.Size([96]).\n",
      "size mismatch for backbone.stage3.1.attention.fc.weight: copying a param with shape torch.Size([256, 256, 1, 1]) from checkpoint, the shape in current model is torch.Size([192, 192, 1, 1]).\n",
      "size mismatch for backbone.stage3.1.attention.fc.bias: copying a param with shape torch.Size([256]) from checkpoint, the shape in current model is torch.Size([192]).\n",
      "size mismatch for backbone.stage4.0.conv.weight: copying a param with shape torch.Size([512, 256, 3, 3]) from checkpoint, the shape in current model is torch.Size([384, 192, 3, 3]).\n",
      "size mismatch for backbone.stage4.0.bn.weight: copying a param with shape torch.Size([512]) from checkpoint, the shape in current model is torch.Size([384]).\n",
      "size mismatch for backbone.stage4.0.bn.bias: copying a param with shape torch.Size([512]) from checkpoint, the shape in current model is torch.Size([384]).\n",
      "size mismatch for backbone.stage4.0.bn.running_mean: copying a param with shape torch.Size([512]) from checkpoint, the shape in current model is torch.Size([384]).\n",
      "size mismatch for backbone.stage4.0.bn.running_var: copying a param with shape torch.Size([512]) from checkpoint, the shape in current model is torch.Size([384]).\n",
      "size mismatch for backbone.stage4.1.conv1.conv.weight: copying a param with shape torch.Size([256, 512, 1, 1]) from checkpoint, the shape in current model is torch.Size([192, 384, 1, 1]).\n",
      "size mismatch for backbone.stage4.1.conv1.bn.weight: copying a param with shape torch.Size([256]) from checkpoint, the shape in current model is torch.Size([192]).\n",
      "size mismatch for backbone.stage4.1.conv1.bn.bias: copying a param with shape torch.Size([256]) from checkpoint, the shape in current model is torch.Size([192]).\n",
      "size mismatch for backbone.stage4.1.conv1.bn.running_mean: copying a param with shape torch.Size([256]) from checkpoint, the shape in current model is torch.Size([192]).\n",
      "size mismatch for backbone.stage4.1.conv1.bn.running_var: copying a param with shape torch.Size([256]) from checkpoint, the shape in current model is torch.Size([192]).\n",
      "size mismatch for backbone.stage4.1.conv2.conv.weight: copying a param with shape torch.Size([512, 1024, 1, 1]) from checkpoint, the shape in current model is torch.Size([384, 768, 1, 1]).\n",
      "size mismatch for backbone.stage4.1.conv2.bn.weight: copying a param with shape torch.Size([512]) from checkpoint, the shape in current model is torch.Size([384]).\n",
      "size mismatch for backbone.stage4.1.conv2.bn.bias: copying a param with shape torch.Size([512]) from checkpoint, the shape in current model is torch.Size([384]).\n",
      "size mismatch for backbone.stage4.1.conv2.bn.running_mean: copying a param with shape torch.Size([512]) from checkpoint, the shape in current model is torch.Size([384]).\n",
      "size mismatch for backbone.stage4.1.conv2.bn.running_var: copying a param with shape torch.Size([512]) from checkpoint, the shape in current model is torch.Size([384]).\n",
      "size mismatch for backbone.stage4.2.main_conv.conv.weight: copying a param with shape torch.Size([256, 512, 1, 1]) from checkpoint, the shape in current model is torch.Size([192, 384, 1, 1]).\n",
      "size mismatch for backbone.stage4.2.main_conv.bn.weight: copying a param with shape torch.Size([256]) from checkpoint, the shape in current model is torch.Size([192]).\n",
      "size mismatch for backbone.stage4.2.main_conv.bn.bias: copying a param with shape torch.Size([256]) from checkpoint, the shape in current model is torch.Size([192]).\n",
      "size mismatch for backbone.stage4.2.main_conv.bn.running_mean: copying a param with shape torch.Size([256]) from checkpoint, the shape in current model is torch.Size([192]).\n",
      "size mismatch for backbone.stage4.2.main_conv.bn.running_var: copying a param with shape torch.Size([256]) from checkpoint, the shape in current model is torch.Size([192]).\n",
      "size mismatch for backbone.stage4.2.short_conv.conv.weight: copying a param with shape torch.Size([256, 512, 1, 1]) from checkpoint, the shape in current model is torch.Size([192, 384, 1, 1]).\n",
      "size mismatch for backbone.stage4.2.short_conv.bn.weight: copying a param with shape torch.Size([256]) from checkpoint, the shape in current model is torch.Size([192]).\n",
      "size mismatch for backbone.stage4.2.short_conv.bn.bias: copying a param with shape torch.Size([256]) from checkpoint, the shape in current model is torch.Size([192]).\n",
      "size mismatch for backbone.stage4.2.short_conv.bn.running_mean: copying a param with shape torch.Size([256]) from checkpoint, the shape in current model is torch.Size([192]).\n",
      "size mismatch for backbone.stage4.2.short_conv.bn.running_var: copying a param with shape torch.Size([256]) from checkpoint, the shape in current model is torch.Size([192]).\n",
      "size mismatch for backbone.stage4.2.final_conv.conv.weight: copying a param with shape torch.Size([512, 512, 1, 1]) from checkpoint, the shape in current model is torch.Size([384, 384, 1, 1]).\n",
      "size mismatch for backbone.stage4.2.final_conv.bn.weight: copying a param with shape torch.Size([512]) from checkpoint, the shape in current model is torch.Size([384]).\n",
      "size mismatch for backbone.stage4.2.final_conv.bn.bias: copying a param with shape torch.Size([512]) from checkpoint, the shape in current model is torch.Size([384]).\n",
      "size mismatch for backbone.stage4.2.final_conv.bn.running_mean: copying a param with shape torch.Size([512]) from checkpoint, the shape in current model is torch.Size([384]).\n",
      "size mismatch for backbone.stage4.2.final_conv.bn.running_var: copying a param with shape torch.Size([512]) from checkpoint, the shape in current model is torch.Size([384]).\n",
      "size mismatch for backbone.stage4.2.blocks.0.conv1.conv.weight: copying a param with shape torch.Size([256, 256, 3, 3]) from checkpoint, the shape in current model is torch.Size([192, 192, 3, 3]).\n",
      "size mismatch for backbone.stage4.2.blocks.0.conv1.bn.weight: copying a param with shape torch.Size([256]) from checkpoint, the shape in current model is torch.Size([192]).\n",
      "size mismatch for backbone.stage4.2.blocks.0.conv1.bn.bias: copying a param with shape torch.Size([256]) from checkpoint, the shape in current model is torch.Size([192]).\n",
      "size mismatch for backbone.stage4.2.blocks.0.conv1.bn.running_mean: copying a param with shape torch.Size([256]) from checkpoint, the shape in current model is torch.Size([192]).\n",
      "size mismatch for backbone.stage4.2.blocks.0.conv1.bn.running_var: copying a param with shape torch.Size([256]) from checkpoint, the shape in current model is torch.Size([192]).\n",
      "size mismatch for backbone.stage4.2.blocks.0.conv2.depthwise_conv.conv.weight: copying a param with shape torch.Size([256, 1, 5, 5]) from checkpoint, the shape in current model is torch.Size([192, 1, 5, 5]).\n",
      "size mismatch for backbone.stage4.2.blocks.0.conv2.depthwise_conv.bn.weight: copying a param with shape torch.Size([256]) from checkpoint, the shape in current model is torch.Size([192]).\n",
      "size mismatch for backbone.stage4.2.blocks.0.conv2.depthwise_conv.bn.bias: copying a param with shape torch.Size([256]) from checkpoint, the shape in current model is torch.Size([192]).\n",
      "size mismatch for backbone.stage4.2.blocks.0.conv2.depthwise_conv.bn.running_mean: copying a param with shape torch.Size([256]) from checkpoint, the shape in current model is torch.Size([192]).\n",
      "size mismatch for backbone.stage4.2.blocks.0.conv2.depthwise_conv.bn.running_var: copying a param with shape torch.Size([256]) from checkpoint, the shape in current model is torch.Size([192]).\n",
      "size mismatch for backbone.stage4.2.blocks.0.conv2.pointwise_conv.conv.weight: copying a param with shape torch.Size([256, 256, 1, 1]) from checkpoint, the shape in current model is torch.Size([192, 192, 1, 1]).\n",
      "size mismatch for backbone.stage4.2.blocks.0.conv2.pointwise_conv.bn.weight: copying a param with shape torch.Size([256]) from checkpoint, the shape in current model is torch.Size([192]).\n",
      "size mismatch for backbone.stage4.2.blocks.0.conv2.pointwise_conv.bn.bias: copying a param with shape torch.Size([256]) from checkpoint, the shape in current model is torch.Size([192]).\n",
      "size mismatch for backbone.stage4.2.blocks.0.conv2.pointwise_conv.bn.running_mean: copying a param with shape torch.Size([256]) from checkpoint, the shape in current model is torch.Size([192]).\n",
      "size mismatch for backbone.stage4.2.blocks.0.conv2.pointwise_conv.bn.running_var: copying a param with shape torch.Size([256]) from checkpoint, the shape in current model is torch.Size([192]).\n",
      "size mismatch for backbone.stage4.2.attention.fc.weight: copying a param with shape torch.Size([512, 512, 1, 1]) from checkpoint, the shape in current model is torch.Size([384, 384, 1, 1]).\n",
      "size mismatch for backbone.stage4.2.attention.fc.bias: copying a param with shape torch.Size([512]) from checkpoint, the shape in current model is torch.Size([384]).\n",
      "unexpected key in source state_dict: head.final_layer.weight, head.final_layer.bias, head.mlp.0.g, head.mlp.1.weight, head.gau.gamma, head.gau.beta, head.gau.o.weight, head.gau.uv.weight, head.gau.ln.g, head.gau.res_scale.scale, head.cls_x.weight, head.cls_y.weight, backbone.stage2.1.blocks.1.conv1.conv.weight, backbone.stage2.1.blocks.1.conv1.bn.weight, backbone.stage2.1.blocks.1.conv1.bn.bias, backbone.stage2.1.blocks.1.conv1.bn.running_mean, backbone.stage2.1.blocks.1.conv1.bn.running_var, backbone.stage2.1.blocks.1.conv1.bn.num_batches_tracked, backbone.stage2.1.blocks.1.conv2.depthwise_conv.conv.weight, backbone.stage2.1.blocks.1.conv2.depthwise_conv.bn.weight, backbone.stage2.1.blocks.1.conv2.depthwise_conv.bn.bias, backbone.stage2.1.blocks.1.conv2.depthwise_conv.bn.running_mean, backbone.stage2.1.blocks.1.conv2.depthwise_conv.bn.running_var, backbone.stage2.1.blocks.1.conv2.depthwise_conv.bn.num_batches_tracked, backbone.stage2.1.blocks.1.conv2.pointwise_conv.conv.weight, backbone.stage2.1.blocks.1.conv2.pointwise_conv.bn.weight, backbone.stage2.1.blocks.1.conv2.pointwise_conv.bn.bias, backbone.stage2.1.blocks.1.conv2.pointwise_conv.bn.running_mean, backbone.stage2.1.blocks.1.conv2.pointwise_conv.bn.running_var, backbone.stage2.1.blocks.1.conv2.pointwise_conv.bn.num_batches_tracked, backbone.stage3.1.blocks.1.conv1.conv.weight, backbone.stage3.1.blocks.1.conv1.bn.weight, backbone.stage3.1.blocks.1.conv1.bn.bias, backbone.stage3.1.blocks.1.conv1.bn.running_mean, backbone.stage3.1.blocks.1.conv1.bn.running_var, backbone.stage3.1.blocks.1.conv1.bn.num_batches_tracked, backbone.stage3.1.blocks.1.conv2.depthwise_conv.conv.weight, backbone.stage3.1.blocks.1.conv2.depthwise_conv.bn.weight, backbone.stage3.1.blocks.1.conv2.depthwise_conv.bn.bias, backbone.stage3.1.blocks.1.conv2.depthwise_conv.bn.running_mean, backbone.stage3.1.blocks.1.conv2.depthwise_conv.bn.running_var, backbone.stage3.1.blocks.1.conv2.depthwise_conv.bn.num_batches_tracked, backbone.stage3.1.blocks.1.conv2.pointwise_conv.conv.weight, backbone.stage3.1.blocks.1.conv2.pointwise_conv.bn.weight, backbone.stage3.1.blocks.1.conv2.pointwise_conv.bn.bias, backbone.stage3.1.blocks.1.conv2.pointwise_conv.bn.running_mean, backbone.stage3.1.blocks.1.conv2.pointwise_conv.bn.running_var, backbone.stage3.1.blocks.1.conv2.pointwise_conv.bn.num_batches_tracked\n",
      "\n",
      "missing keys in source state_dict: neck.reduce_layers.0.conv.weight, neck.reduce_layers.0.bn.weight, neck.reduce_layers.0.bn.bias, neck.reduce_layers.0.bn.running_mean, neck.reduce_layers.0.bn.running_var, neck.reduce_layers.1.conv.weight, neck.reduce_layers.1.bn.weight, neck.reduce_layers.1.bn.bias, neck.reduce_layers.1.bn.running_mean, neck.reduce_layers.1.bn.running_var, neck.top_down_blocks.0.main_conv.conv.weight, neck.top_down_blocks.0.main_conv.bn.weight, neck.top_down_blocks.0.main_conv.bn.bias, neck.top_down_blocks.0.main_conv.bn.running_mean, neck.top_down_blocks.0.main_conv.bn.running_var, neck.top_down_blocks.0.short_conv.conv.weight, neck.top_down_blocks.0.short_conv.bn.weight, neck.top_down_blocks.0.short_conv.bn.bias, neck.top_down_blocks.0.short_conv.bn.running_mean, neck.top_down_blocks.0.short_conv.bn.running_var, neck.top_down_blocks.0.final_conv.conv.weight, neck.top_down_blocks.0.final_conv.bn.weight, neck.top_down_blocks.0.final_conv.bn.bias, neck.top_down_blocks.0.final_conv.bn.running_mean, neck.top_down_blocks.0.final_conv.bn.running_var, neck.top_down_blocks.0.blocks.0.conv1.conv.weight, neck.top_down_blocks.0.blocks.0.conv1.bn.weight, neck.top_down_blocks.0.blocks.0.conv1.bn.bias, neck.top_down_blocks.0.blocks.0.conv1.bn.running_mean, neck.top_down_blocks.0.blocks.0.conv1.bn.running_var, neck.top_down_blocks.0.blocks.0.conv2.depthwise_conv.conv.weight, neck.top_down_blocks.0.blocks.0.conv2.depthwise_conv.bn.weight, neck.top_down_blocks.0.blocks.0.conv2.depthwise_conv.bn.bias, neck.top_down_blocks.0.blocks.0.conv2.depthwise_conv.bn.running_mean, neck.top_down_blocks.0.blocks.0.conv2.depthwise_conv.bn.running_var, neck.top_down_blocks.0.blocks.0.conv2.pointwise_conv.conv.weight, neck.top_down_blocks.0.blocks.0.conv2.pointwise_conv.bn.weight, neck.top_down_blocks.0.blocks.0.conv2.pointwise_conv.bn.bias, neck.top_down_blocks.0.blocks.0.conv2.pointwise_conv.bn.running_mean, neck.top_down_blocks.0.blocks.0.conv2.pointwise_conv.bn.running_var, neck.top_down_blocks.1.main_conv.conv.weight, neck.top_down_blocks.1.main_conv.bn.weight, neck.top_down_blocks.1.main_conv.bn.bias, neck.top_down_blocks.1.main_conv.bn.running_mean, neck.top_down_blocks.1.main_conv.bn.running_var, neck.top_down_blocks.1.short_conv.conv.weight, neck.top_down_blocks.1.short_conv.bn.weight, neck.top_down_blocks.1.short_conv.bn.bias, neck.top_down_blocks.1.short_conv.bn.running_mean, neck.top_down_blocks.1.short_conv.bn.running_var, neck.top_down_blocks.1.final_conv.conv.weight, neck.top_down_blocks.1.final_conv.bn.weight, neck.top_down_blocks.1.final_conv.bn.bias, neck.top_down_blocks.1.final_conv.bn.running_mean, neck.top_down_blocks.1.final_conv.bn.running_var, neck.top_down_blocks.1.blocks.0.conv1.conv.weight, neck.top_down_blocks.1.blocks.0.conv1.bn.weight, neck.top_down_blocks.1.blocks.0.conv1.bn.bias, neck.top_down_blocks.1.blocks.0.conv1.bn.running_mean, neck.top_down_blocks.1.blocks.0.conv1.bn.running_var, neck.top_down_blocks.1.blocks.0.conv2.depthwise_conv.conv.weight, neck.top_down_blocks.1.blocks.0.conv2.depthwise_conv.bn.weight, neck.top_down_blocks.1.blocks.0.conv2.depthwise_conv.bn.bias, neck.top_down_blocks.1.blocks.0.conv2.depthwise_conv.bn.running_mean, neck.top_down_blocks.1.blocks.0.conv2.depthwise_conv.bn.running_var, neck.top_down_blocks.1.blocks.0.conv2.pointwise_conv.conv.weight, neck.top_down_blocks.1.blocks.0.conv2.pointwise_conv.bn.weight, neck.top_down_blocks.1.blocks.0.conv2.pointwise_conv.bn.bias, neck.top_down_blocks.1.blocks.0.conv2.pointwise_conv.bn.running_mean, neck.top_down_blocks.1.blocks.0.conv2.pointwise_conv.bn.running_var, neck.downsamples.0.conv.weight, neck.downsamples.0.bn.weight, neck.downsamples.0.bn.bias, neck.downsamples.0.bn.running_mean, neck.downsamples.0.bn.running_var, neck.downsamples.1.conv.weight, neck.downsamples.1.bn.weight, neck.downsamples.1.bn.bias, neck.downsamples.1.bn.running_mean, neck.downsamples.1.bn.running_var, neck.bottom_up_blocks.0.main_conv.conv.weight, neck.bottom_up_blocks.0.main_conv.bn.weight, neck.bottom_up_blocks.0.main_conv.bn.bias, neck.bottom_up_blocks.0.main_conv.bn.running_mean, neck.bottom_up_blocks.0.main_conv.bn.running_var, neck.bottom_up_blocks.0.short_conv.conv.weight, neck.bottom_up_blocks.0.short_conv.bn.weight, neck.bottom_up_blocks.0.short_conv.bn.bias, neck.bottom_up_blocks.0.short_conv.bn.running_mean, neck.bottom_up_blocks.0.short_conv.bn.running_var, neck.bottom_up_blocks.0.final_conv.conv.weight, neck.bottom_up_blocks.0.final_conv.bn.weight, neck.bottom_up_blocks.0.final_conv.bn.bias, neck.bottom_up_blocks.0.final_conv.bn.running_mean, neck.bottom_up_blocks.0.final_conv.bn.running_var, neck.bottom_up_blocks.0.blocks.0.conv1.conv.weight, neck.bottom_up_blocks.0.blocks.0.conv1.bn.weight, neck.bottom_up_blocks.0.blocks.0.conv1.bn.bias, neck.bottom_up_blocks.0.blocks.0.conv1.bn.running_mean, neck.bottom_up_blocks.0.blocks.0.conv1.bn.running_var, neck.bottom_up_blocks.0.blocks.0.conv2.depthwise_conv.conv.weight, neck.bottom_up_blocks.0.blocks.0.conv2.depthwise_conv.bn.weight, neck.bottom_up_blocks.0.blocks.0.conv2.depthwise_conv.bn.bias, neck.bottom_up_blocks.0.blocks.0.conv2.depthwise_conv.bn.running_mean, neck.bottom_up_blocks.0.blocks.0.conv2.depthwise_conv.bn.running_var, neck.bottom_up_blocks.0.blocks.0.conv2.pointwise_conv.conv.weight, neck.bottom_up_blocks.0.blocks.0.conv2.pointwise_conv.bn.weight, neck.bottom_up_blocks.0.blocks.0.conv2.pointwise_conv.bn.bias, neck.bottom_up_blocks.0.blocks.0.conv2.pointwise_conv.bn.running_mean, neck.bottom_up_blocks.0.blocks.0.conv2.pointwise_conv.bn.running_var, neck.bottom_up_blocks.1.main_conv.conv.weight, neck.bottom_up_blocks.1.main_conv.bn.weight, neck.bottom_up_blocks.1.main_conv.bn.bias, neck.bottom_up_blocks.1.main_conv.bn.running_mean, neck.bottom_up_blocks.1.main_conv.bn.running_var, neck.bottom_up_blocks.1.short_conv.conv.weight, neck.bottom_up_blocks.1.short_conv.bn.weight, neck.bottom_up_blocks.1.short_conv.bn.bias, neck.bottom_up_blocks.1.short_conv.bn.running_mean, neck.bottom_up_blocks.1.short_conv.bn.running_var, neck.bottom_up_blocks.1.final_conv.conv.weight, neck.bottom_up_blocks.1.final_conv.bn.weight, neck.bottom_up_blocks.1.final_conv.bn.bias, neck.bottom_up_blocks.1.final_conv.bn.running_mean, neck.bottom_up_blocks.1.final_conv.bn.running_var, neck.bottom_up_blocks.1.blocks.0.conv1.conv.weight, neck.bottom_up_blocks.1.blocks.0.conv1.bn.weight, neck.bottom_up_blocks.1.blocks.0.conv1.bn.bias, neck.bottom_up_blocks.1.blocks.0.conv1.bn.running_mean, neck.bottom_up_blocks.1.blocks.0.conv1.bn.running_var, neck.bottom_up_blocks.1.blocks.0.conv2.depthwise_conv.conv.weight, neck.bottom_up_blocks.1.blocks.0.conv2.depthwise_conv.bn.weight, neck.bottom_up_blocks.1.blocks.0.conv2.depthwise_conv.bn.bias, neck.bottom_up_blocks.1.blocks.0.conv2.depthwise_conv.bn.running_mean, neck.bottom_up_blocks.1.blocks.0.conv2.depthwise_conv.bn.running_var, neck.bottom_up_blocks.1.blocks.0.conv2.pointwise_conv.conv.weight, neck.bottom_up_blocks.1.blocks.0.conv2.pointwise_conv.bn.weight, neck.bottom_up_blocks.1.blocks.0.conv2.pointwise_conv.bn.bias, neck.bottom_up_blocks.1.blocks.0.conv2.pointwise_conv.bn.running_mean, neck.bottom_up_blocks.1.blocks.0.conv2.pointwise_conv.bn.running_var, neck.out_convs.0.conv.weight, neck.out_convs.0.bn.weight, neck.out_convs.0.bn.bias, neck.out_convs.0.bn.running_mean, neck.out_convs.0.bn.running_var, neck.out_convs.1.conv.weight, neck.out_convs.1.bn.weight, neck.out_convs.1.bn.bias, neck.out_convs.1.bn.running_mean, neck.out_convs.1.bn.running_var, neck.out_convs.2.conv.weight, neck.out_convs.2.bn.weight, neck.out_convs.2.bn.bias, neck.out_convs.2.bn.running_mean, neck.out_convs.2.bn.running_var, bbox_head.cls_convs.0.0.conv.weight, bbox_head.cls_convs.0.0.bn.weight, bbox_head.cls_convs.0.0.bn.bias, bbox_head.cls_convs.0.0.bn.running_mean, bbox_head.cls_convs.0.0.bn.running_var, bbox_head.cls_convs.0.1.conv.weight, bbox_head.cls_convs.0.1.bn.weight, bbox_head.cls_convs.0.1.bn.bias, bbox_head.cls_convs.0.1.bn.running_mean, bbox_head.cls_convs.0.1.bn.running_var, bbox_head.cls_convs.1.0.conv.weight, bbox_head.cls_convs.1.0.bn.weight, bbox_head.cls_convs.1.0.bn.bias, bbox_head.cls_convs.1.0.bn.running_mean, bbox_head.cls_convs.1.0.bn.running_var, bbox_head.cls_convs.1.1.conv.weight, bbox_head.cls_convs.1.1.bn.weight, bbox_head.cls_convs.1.1.bn.bias, bbox_head.cls_convs.1.1.bn.running_mean, bbox_head.cls_convs.1.1.bn.running_var, bbox_head.cls_convs.2.0.conv.weight, bbox_head.cls_convs.2.0.bn.weight, bbox_head.cls_convs.2.0.bn.bias, bbox_head.cls_convs.2.0.bn.running_mean, bbox_head.cls_convs.2.0.bn.running_var, bbox_head.cls_convs.2.1.conv.weight, bbox_head.cls_convs.2.1.bn.weight, bbox_head.cls_convs.2.1.bn.bias, bbox_head.cls_convs.2.1.bn.running_mean, bbox_head.cls_convs.2.1.bn.running_var, bbox_head.reg_convs.0.0.conv.weight, bbox_head.reg_convs.0.0.bn.weight, bbox_head.reg_convs.0.0.bn.bias, bbox_head.reg_convs.0.0.bn.running_mean, bbox_head.reg_convs.0.0.bn.running_var, bbox_head.reg_convs.0.1.conv.weight, bbox_head.reg_convs.0.1.bn.weight, bbox_head.reg_convs.0.1.bn.bias, bbox_head.reg_convs.0.1.bn.running_mean, bbox_head.reg_convs.0.1.bn.running_var, bbox_head.reg_convs.1.0.conv.weight, bbox_head.reg_convs.1.0.bn.weight, bbox_head.reg_convs.1.0.bn.bias, bbox_head.reg_convs.1.0.bn.running_mean, bbox_head.reg_convs.1.0.bn.running_var, bbox_head.reg_convs.1.1.conv.weight, bbox_head.reg_convs.1.1.bn.weight, bbox_head.reg_convs.1.1.bn.bias, bbox_head.reg_convs.1.1.bn.running_mean, bbox_head.reg_convs.1.1.bn.running_var, bbox_head.reg_convs.2.0.conv.weight, bbox_head.reg_convs.2.0.bn.weight, bbox_head.reg_convs.2.0.bn.bias, bbox_head.reg_convs.2.0.bn.running_mean, bbox_head.reg_convs.2.0.bn.running_var, bbox_head.reg_convs.2.1.conv.weight, bbox_head.reg_convs.2.1.bn.weight, bbox_head.reg_convs.2.1.bn.bias, bbox_head.reg_convs.2.1.bn.running_mean, bbox_head.reg_convs.2.1.bn.running_var, bbox_head.rtm_cls.0.weight, bbox_head.rtm_cls.0.bias, bbox_head.rtm_cls.1.weight, bbox_head.rtm_cls.1.bias, bbox_head.rtm_cls.2.weight, bbox_head.rtm_cls.2.bias, bbox_head.rtm_reg.0.weight, bbox_head.rtm_reg.0.bias, bbox_head.rtm_reg.1.weight, bbox_head.rtm_reg.1.bias, bbox_head.rtm_reg.2.weight, bbox_head.rtm_reg.2.bias\n",
      "\n",
      "Press \"Esc\", \"q\" or \"Q\" to exit.\n"
     ]
    },
    {
     "name": "stderr",
     "output_type": "stream",
     "text": [
      "D:\\Anaconda3\\envs\\openmmlab\\lib\\site-packages\\mmengine\\visualization\\visualizer.py:196: UserWarning: Failed to add <class 'mmengine.visualization.vis_backend.LocalVisBackend'>, please provide the `save_dir` argument.\n",
      "  warnings.warn(f'Failed to add {vis_backend.__class__}, '\n",
      "D:\\Anaconda3\\envs\\openmmlab\\lib\\site-packages\\torch\\functional.py:504: UserWarning: torch.meshgrid: in an upcoming release, it will be required to pass the indexing argument. (Triggered internally at C:\\cb\\pytorch_1000000000000\\work\\aten\\src\\ATen\\native\\TensorShape.cpp:3527.)\n",
      "  return _VF.meshgrid(tensors, **kwargs)  # type: ignore[attr-defined]\n",
      "D:\\Anaconda3\\envs\\openmmlab\\lib\\site-packages\\mmengine\\visualization\\visualizer.py:760: UserWarning: Warning: The bbox is out of bounds, the drawn bbox may not be in the image\n",
      "  warnings.warn(\n",
      "D:\\Anaconda3\\envs\\openmmlab\\lib\\site-packages\\mmengine\\visualization\\visualizer.py:831: UserWarning: Warning: The polygon is out of bounds, the drawn polygon may not be in the image\n",
      "  warnings.warn(\n",
      "Traceback (most recent call last):\n",
      "  File \"demo/webcam_demo.py\", line 65, in <module>\n",
      "    main()\n",
      "  File \"demo/webcam_demo.py\", line 47, in main\n",
      "    visualizer.add_datasample(\n",
      "  File \"D:\\Anaconda3\\envs\\openmmlab\\lib\\site-packages\\mmengine\\dist\\utils.py\", line 419, in wrapper\n",
      "    return func(*args, **kwargs)\n",
      "  File \"D:\\Anaconda3\\envs\\openmmlab\\lib\\site-packages\\mmdet\\visualization\\local_visualizer.py\", line 468, in add_datasample\n",
      "    pred_img_data = self._draw_instances(image, pred_instances,\n",
      "  File \"D:\\Anaconda3\\envs\\openmmlab\\lib\\site-packages\\mmdet\\visualization\\local_visualizer.py\", line 157, in _draw_instances\n",
      "    label_text += f': {score}'\n",
      "TypeError: unsupported operand type(s) for +=: 'dict' and 'str'\n"
     ]
    }
   ],
   "source": [
    "# rtmdet 人脸目标检测\n",
    "!python demo/webcam_demo.py \\\n",
    "        data/rtmdet_tiny_lapa.py   \\\n",
    "        checkpoint/rtmdet_tiny_lapa_epoch_130.pth\\\n",
    "        --device cpu \\\n",
    "        --camera-id 0 \\\n",
    "        --score-thr 0.5"
   ]
  },
  {
   "cell_type": "code",
   "execution_count": null,
   "id": "faa9dca0-c856-4654-b15c-58cd16347a0d",
   "metadata": {},
   "outputs": [],
   "source": []
  }
 ],
 "metadata": {
  "kernelspec": {
   "display_name": "Python 3 (ipykernel)",
   "language": "python",
   "name": "python3"
  },
  "language_info": {
   "codemirror_mode": {
    "name": "ipython",
    "version": 3
   },
   "file_extension": ".py",
   "mimetype": "text/x-python",
   "name": "python",
   "nbconvert_exporter": "python",
   "pygments_lexer": "ipython3",
   "version": "3.8.18"
  }
 },
 "nbformat": 4,
 "nbformat_minor": 5
}
