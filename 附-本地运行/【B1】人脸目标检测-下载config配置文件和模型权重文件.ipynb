{
 "cells": [
  {
   "cell_type": "markdown",
   "id": "9b7cedd3",
   "metadata": {},
   "source": [
    "# 三角板目标检测-下载config配置文件和模型权重文件\n",
    "\n",
    "同济子豪兄 2023-4-5"
   ]
  },
  {
   "cell_type": "markdown",
   "id": "be4f99e5",
   "metadata": {},
   "source": [
    "## 进入 mmpose 主目录 或 mmdetection 主目录"
   ]
  },
  {
   "cell_type": "code",
   "execution_count": 24,
   "id": "cffa5e65",
   "metadata": {},
   "outputs": [],
   "source": [
    "import os\n",
    "os.chdir('mmpose')\n",
    "# os.chdir('mmdetection')"
   ]
  },
  {
   "cell_type": "code",
   "execution_count": 22,
   "id": "12131744-a9c5-4a79-a6e0-5187186c0e05",
   "metadata": {},
   "outputs": [],
   "source": [
    "import os\n",
    "os.chdir('..')"
   ]
  },
  {
   "cell_type": "code",
   "execution_count": 25,
   "id": "a7e6f0d3-50d8-49d5-a657-3d63ea2bb65d",
   "metadata": {},
   "outputs": [
    {
     "name": "stdout",
     "output_type": "stream",
     "text": [
      "/e/openmmlab/MMPose_Tutorials/2023/0524/mmpose\n"
     ]
    }
   ],
   "source": [
    "!pwd"
   ]
  },
  {
   "cell_type": "markdown",
   "id": "878f0aa8",
   "metadata": {},
   "source": [
    "## 下载config配置文件至`data`目录"
   ]
  },
  {
   "cell_type": "code",
   "execution_count": 26,
   "id": "e478810f",
   "metadata": {},
   "outputs": [
    {
     "name": "stderr",
     "output_type": "stream",
     "text": [
      "--2023-12-12 15:39:20--  https://zihao-openmmlab.obs.myhuaweicloud.com/20220610-mmpose/triangle_dataset/faster_r_cnn_triangle.py\n",
      "Loaded CA certificate '/usr/ssl/certs/ca-bundle.crt'\n",
      "Resolving zihao-openmmlab.obs.myhuaweicloud.com (zihao-openmmlab.obs.myhuaweicloud.com)... 121.36.235.132\n",
      "Connecting to zihao-openmmlab.obs.myhuaweicloud.com (zihao-openmmlab.obs.myhuaweicloud.com)|121.36.235.132|:443... connected.\n",
      "HTTP request sent, awaiting response... 200 OK\n",
      "Length: 8056 (7.9K) [binary/octet-stream]\n",
      "Saving to: 'data/faster_r_cnn_triangle.py.1'\n",
      "\n",
      "     0K .......                                               100% 1.94M=0.004s\n",
      "\n",
      "2023-12-12 15:39:21 (1.94 MB/s) - 'data/faster_r_cnn_triangle.py.1' saved [8056/8056]\n",
      "\n"
     ]
    }
   ],
   "source": [
    "# yolox-s 人脸目标检测\n",
    "demo/mmdetection_cfg/yolox-s_8xb8-300e_coco-face.py -P data"
   ]
  },
  {
   "cell_type": "markdown",
   "id": "5ed35bef",
   "metadata": {},
   "source": [
    "## 下载模型权重文件至`checkpoint`目录"
   ]
  },
  {
   "cell_type": "code",
   "execution_count": 1,
   "id": "f3ed1cba",
   "metadata": {},
   "outputs": [],
   "source": [
    "# Faster R CNN 人脸目标检测\n",
    "# !wget https://download.openmmlab.com/mmpose/v1/projects/rtmposev1/rtmpose-m_simcc-lapa_pt-aic-coco_120e-256x256-762b1ae2_20230422.pth -P checkpoint"
   ]
  },
  {
   "cell_type": "markdown",
   "id": "7f59e21f",
   "metadata": {},
   "source": [
    "## 注意，要在`mmpose`和`mmdetection`两个目录都运行一遍"
   ]
  },
  {
   "cell_type": "code",
   "execution_count": null,
   "id": "f4123702",
   "metadata": {},
   "outputs": [],
   "source": []
  }
 ],
 "metadata": {
  "kernelspec": {
   "display_name": "Python 3 (ipykernel)",
   "language": "python",
   "name": "python3"
  },
  "language_info": {
   "codemirror_mode": {
    "name": "ipython",
    "version": 3
   },
   "file_extension": ".py",
   "mimetype": "text/x-python",
   "name": "python",
   "nbconvert_exporter": "python",
   "pygments_lexer": "ipython3",
   "version": "3.8.18"
  }
 },
 "nbformat": 4,
 "nbformat_minor": 5
}
