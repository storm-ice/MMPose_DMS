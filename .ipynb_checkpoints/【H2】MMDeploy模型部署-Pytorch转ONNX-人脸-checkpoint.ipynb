{
 "cells": [
  {
   "cell_type": "markdown",
   "id": "4b326cca-5aac-4011-97e8-9581b4224dda",
   "metadata": {},
   "source": [
    "# MMDeploy模型部署-Pytorch转ONNX"
   ]
  },
  {
   "cell_type": "markdown",
   "id": "af6c6749-3a74-4e8f-a379-11451509d2cc",
   "metadata": {},
   "source": [
    "## 进入MMDeploy主目录"
   ]
  },
  {
   "cell_type": "code",
   "execution_count": 2,
   "id": "22fea16b-0d4e-4734-9379-c8f3a4045222",
   "metadata": {},
   "outputs": [],
   "source": [
    "import os\n",
    "os.chdir('mmdeploy')"
   ]
  },
  {
   "cell_type": "code",
   "execution_count": 3,
   "id": "1c9c3a5e-a7d4-4338-ba22-0a537b79b04c",
   "metadata": {},
   "outputs": [
    {
     "name": "stdout",
     "output_type": "stream",
     "text": [
      "/e/openmmlab/MMPose_Tutorials/2023/0524/mmdeploy\n"
     ]
    }
   ],
   "source": [
    "!pwd"
   ]
  },
  {
   "cell_type": "markdown",
   "id": "6fabd6ff-4c86-4798-888e-1c28c64e37a5",
   "metadata": {},
   "source": [
    "## 人脸目标检测模型"
   ]
  },
  {
   "cell_type": "code",
   "execution_count": 6,
   "id": "5d97d93a-1014-48b7-b1e8-92176e594970",
   "metadata": {},
   "outputs": [
    {
     "name": "stdout",
     "output_type": "stream",
     "text": [
      "12/21 18:08:03 - mmengine - \u001b[5m\u001b[4m\u001b[33mWARNING\u001b[0m - Failed to search registry with scope \"mmdet\" in the \"Codebases\" registry tree. As a workaround, the current \"Codebases\" registry in \"mmdeploy\" is used to build instance. This may cause unexpected failure when running the built modules. Please check whether \"mmdet\" is a correct scope, or whether the registry is initialized.\n",
      "12/21 18:08:03 - mmengine - \u001b[5m\u001b[4m\u001b[33mWARNING\u001b[0m - Failed to search registry with scope \"mmdet\" in the \"mmdet_tasks\" registry tree. As a workaround, the current \"mmdet_tasks\" registry in \"mmdeploy\" is used to build instance. This may cause unexpected failure when running the built modules. Please check whether \"mmdet\" is a correct scope, or whether the registry is initialized.\n",
      "12/21 18:08:06 - mmengine - \u001b[4m\u001b[97mINFO\u001b[0m - Start pipeline mmdeploy.apis.pytorch2onnx.torch2onnx in subprocess\n",
      "12/21 18:08:07 - mmengine - \u001b[5m\u001b[4m\u001b[33mWARNING\u001b[0m - Failed to search registry with scope \"mmdet\" in the \"Codebases\" registry tree. As a workaround, the current \"Codebases\" registry in \"mmdeploy\" is used to build instance. This may cause unexpected failure when running the built modules. Please check whether \"mmdet\" is a correct scope, or whether the registry is initialized.\n",
      "12/21 18:08:07 - mmengine - \u001b[5m\u001b[4m\u001b[33mWARNING\u001b[0m - Failed to search registry with scope \"mmdet\" in the \"mmdet_tasks\" registry tree. As a workaround, the current \"mmdet_tasks\" registry in \"mmdeploy\" is used to build instance. This may cause unexpected failure when running the built modules. Please check whether \"mmdet\" is a correct scope, or whether the registry is initialized.\n",
      "Loads checkpoint by local backend from path: ../mmpose/checkpoint/yolo-x_8xb8-300e_coco-face_13274d7c.pth\n",
      "12/21 18:08:08 - mmengine - \u001b[5m\u001b[4m\u001b[33mWARNING\u001b[0m - DeprecationWarning: get_onnx_config will be deprecated in the future. \n",
      "12/21 18:08:08 - mmengine - \u001b[4m\u001b[97mINFO\u001b[0m - Export PyTorch model to ONNX: ../yolo2onnx\\end2end.onnx.\n",
      "12/21 18:08:10 - mmengine - \u001b[4m\u001b[97mINFO\u001b[0m - Execute onnx optimize passes.\n",
      "12/21 18:08:10 - mmengine - \u001b[5m\u001b[4m\u001b[33mWARNING\u001b[0m - Can not optimize model, please build torchscipt extension.\n",
      "More details: https://github.com/open-mmlab/mmdeploy/tree/1.x/docs/en/experimental/onnx_optimizer.md\n",
      "12/21 18:08:11 - mmengine - \u001b[4m\u001b[97mINFO\u001b[0m - Finish pipeline mmdeploy.apis.pytorch2onnx.torch2onnx\n",
      "12/21 18:08:11 - mmengine - \u001b[4m\u001b[97mINFO\u001b[0m - Start pipeline mmdeploy.apis.utils.utils.to_backend in main process\n",
      "12/21 18:08:11 - mmengine - \u001b[4m\u001b[97mINFO\u001b[0m - Finish pipeline mmdeploy.apis.utils.utils.to_backend\n",
      "12/21 18:08:11 - mmengine - \u001b[4m\u001b[97mINFO\u001b[0m - visualize onnxruntime model start.\n",
      "12/21 18:08:15 - mmengine - \u001b[5m\u001b[4m\u001b[33mWARNING\u001b[0m - Failed to search registry with scope \"mmdet\" in the \"Codebases\" registry tree. As a workaround, the current \"Codebases\" registry in \"mmdeploy\" is used to build instance. This may cause unexpected failure when running the built modules. Please check whether \"mmdet\" is a correct scope, or whether the registry is initialized.\n",
      "12/21 18:08:15 - mmengine - \u001b[5m\u001b[4m\u001b[33mWARNING\u001b[0m - Failed to search registry with scope \"mmdet\" in the \"mmdet_tasks\" registry tree. As a workaround, the current \"mmdet_tasks\" registry in \"mmdeploy\" is used to build instance. This may cause unexpected failure when running the built modules. Please check whether \"mmdet\" is a correct scope, or whether the registry is initialized.\n",
      "12/21 18:08:15 - mmengine - \u001b[5m\u001b[4m\u001b[33mWARNING\u001b[0m - Failed to search registry with scope \"mmdet\" in the \"backend_detectors\" registry tree. As a workaround, the current \"backend_detectors\" registry in \"mmdeploy\" is used to build instance. This may cause unexpected failure when running the built modules. Please check whether \"mmdet\" is a correct scope, or whether the registry is initialized.\n",
      "12/21 18:08:16 - mmengine - \u001b[4m\u001b[97mINFO\u001b[0m - Successfully loaded onnxruntime custom ops from D:\\Anaconda3\\envs\\openmmlab\\lib\\site-packages\\mmdeploy\\lib\\mmdeploy_onnxruntime_ops.dll\n",
      "12/21 18:08:17 - mmengine - \u001b[4m\u001b[97mINFO\u001b[0m - visualize onnxruntime model success.\n",
      "12/21 18:08:17 - mmengine - \u001b[4m\u001b[97mINFO\u001b[0m - visualize pytorch model start.\n",
      "12/21 18:08:21 - mmengine - \u001b[5m\u001b[4m\u001b[33mWARNING\u001b[0m - Failed to search registry with scope \"mmdet\" in the \"Codebases\" registry tree. As a workaround, the current \"Codebases\" registry in \"mmdeploy\" is used to build instance. This may cause unexpected failure when running the built modules. Please check whether \"mmdet\" is a correct scope, or whether the registry is initialized.\n",
      "12/21 18:08:21 - mmengine - \u001b[5m\u001b[4m\u001b[33mWARNING\u001b[0m - Failed to search registry with scope \"mmdet\" in the \"mmdet_tasks\" registry tree. As a workaround, the current \"mmdet_tasks\" registry in \"mmdeploy\" is used to build instance. This may cause unexpected failure when running the built modules. Please check whether \"mmdet\" is a correct scope, or whether the registry is initialized.\n",
      "Loads checkpoint by local backend from path: ../mmpose/checkpoint/yolo-x_8xb8-300e_coco-face_13274d7c.pth\n",
      "12/21 18:08:22 - mmengine - \u001b[4m\u001b[97mINFO\u001b[0m - visualize pytorch model success.\n",
      "12/21 18:08:22 - mmengine - \u001b[4m\u001b[97mINFO\u001b[0m - All process success.\n"
     ]
    },
    {
     "name": "stderr",
     "output_type": "stream",
     "text": [
      "D:\\Anaconda3\\envs\\openmmlab\\lib\\site-packages\\mmdeploy\\core\\optimizers\\function_marker.py:160: TracerWarning: Converting a tensor to a Python integer might cause the trace to be incorrect. We can't record the data flow of Python values, so this value will be treated as a constant in the future. This means that the trace might not generalize to other inputs!\n",
      "  ys_shape = tuple(int(s) for s in ys.shape)\n",
      "D:\\Anaconda3\\envs\\openmmlab\\lib\\site-packages\\torch\\functional.py:504: UserWarning: torch.meshgrid: in an upcoming release, it will be required to pass the indexing argument. (Triggered internally at C:\\cb\\pytorch_1000000000000\\work\\aten\\src\\ATen\\native\\TensorShape.cpp:3527.)\n",
      "  return _VF.meshgrid(tensors, **kwargs)  # type: ignore[attr-defined]\n",
      "D:\\Anaconda3\\envs\\openmmlab\\lib\\site-packages\\mmdeploy\\mmcv\\ops\\nms.py:270: TracerWarning: torch.tensor results are registered as constants in the trace. You can safely ignore this warning if you use this function to create tensors out of constant variables that would be the same every time you call this function. In any other case, this might cause the trace to be incorrect.\n",
      "  iou_threshold = torch.tensor([iou_threshold], dtype=torch.float32)\n",
      "D:\\Anaconda3\\envs\\openmmlab\\lib\\site-packages\\mmdeploy\\mmcv\\ops\\nms.py:271: TracerWarning: torch.tensor results are registered as constants in the trace. You can safely ignore this warning if you use this function to create tensors out of constant variables that would be the same every time you call this function. In any other case, this might cause the trace to be incorrect.\n",
      "  score_threshold = torch.tensor([score_threshold], dtype=torch.float32)\n",
      "D:\\Anaconda3\\envs\\openmmlab\\lib\\site-packages\\mmdeploy\\pytorch\\functions\\topk.py:28: TracerWarning: torch.tensor results are registered as constants in the trace. You can safely ignore this warning if you use this function to create tensors out of constant variables that would be the same every time you call this function. In any other case, this might cause the trace to be incorrect.\n",
      "  k = torch.tensor(k, device=input.device, dtype=torch.long)\n",
      "D:\\Anaconda3\\envs\\openmmlab\\lib\\site-packages\\mmdeploy\\mmcv\\ops\\nms.py:44: TracerWarning: Converting a tensor to a Python float might cause the trace to be incorrect. We can't record the data flow of Python values, so this value will be treated as a constant in the future. This means that the trace might not generalize to other inputs!\n",
      "  score_threshold = float(score_threshold)\n",
      "D:\\Anaconda3\\envs\\openmmlab\\lib\\site-packages\\mmdeploy\\mmcv\\ops\\nms.py:45: TracerWarning: Converting a tensor to a Python float might cause the trace to be incorrect. We can't record the data flow of Python values, so this value will be treated as a constant in the future. This means that the trace might not generalize to other inputs!\n",
      "  iou_threshold = float(iou_threshold)\n",
      "D:\\Anaconda3\\envs\\openmmlab\\lib\\site-packages\\mmcv\\ops\\nms.py:123: TracerWarning: Converting a tensor to a Python boolean might cause the trace to be incorrect. We can't record the data flow of Python values, so this value will be treated as a constant in the future. This means that the trace might not generalize to other inputs!\n",
      "  assert boxes.size(1) == 4\n",
      "D:\\Anaconda3\\envs\\openmmlab\\lib\\site-packages\\mmcv\\ops\\nms.py:124: TracerWarning: Converting a tensor to a Python boolean might cause the trace to be incorrect. We can't record the data flow of Python values, so this value will be treated as a constant in the future. This means that the trace might not generalize to other inputs!\n",
      "  assert boxes.size(0) == scores.size(0)\n",
      "D:\\Anaconda3\\envs\\openmmlab\\lib\\site-packages\\torch\\onnx\\symbolic_opset9.py:5857: UserWarning: Exporting aten::index operator of advanced indexing in opset 11 is achieved by combination of multiple ONNX operators, including Reshape, Transpose, Concat, and Gather. If indices include negative values, the exported graph will produce incorrect results.\n",
      "  warnings.warn(\n",
      "D:\\Anaconda3\\envs\\openmmlab\\lib\\site-packages\\torch\\functional.py:504: UserWarning: torch.meshgrid: in an upcoming release, it will be required to pass the indexing argument. (Triggered internally at C:\\cb\\pytorch_1000000000000\\work\\aten\\src\\ATen\\native\\TensorShape.cpp:3527.)\n",
      "  return _VF.meshgrid(tensors, **kwargs)  # type: ignore[attr-defined]\n"
     ]
    }
   ],
   "source": [
    "!python tools/deploy.py \\\n",
    "        configs/mmdet/detection/detection_onnxruntime_dynamic.py \\\n",
    "        ../mmpose/demo/mmdetection_cfg/yolox-s_8xb8-300e_coco-face.py  \\\n",
    "        ../mmpose/checkpoint/yolo-x_8xb8-300e_coco-face_13274d7c.pth \\\n",
    "        ../mmpose/tests/data/cofw/001766.jpg \\\n",
    "        --work-dir ../yolo2onnx \\\n",
    "        --dump-info"
   ]
  },
  {
   "cell_type": "markdown",
   "id": "98bddb5d-7252-40a7-9649-ff466ced4a79",
   "metadata": {},
   "source": [
    "## 人脸关键点检测模型"
   ]
  },
  {
   "cell_type": "markdown",
   "id": "fdc5f3a7-33ef-44c1-9367-6fb85828bfa3",
   "metadata": {},
   "source": [
    "将`mmdeploy/configs/mmpose/pose-detection_simcc_onnxruntime_dynamic.py`中的`input_shape`修改为关键点检测模型的输入图像尺寸"
   ]
  },
  {
   "cell_type": "code",
   "execution_count": 6,
   "id": "10b35d20-514f-4db9-806c-43acb7c514d7",
   "metadata": {},
   "outputs": [
    {
     "name": "stdout",
     "output_type": "stream",
     "text": [
      "12/22 15:07:07 - mmengine - \u001b[5m\u001b[4m\u001b[33mWARNING\u001b[0m - Failed to search registry with scope \"mmpose\" in the \"Codebases\" registry tree. As a workaround, the current \"Codebases\" registry in \"mmdeploy\" is used to build instance. This may cause unexpected failure when running the built modules. Please check whether \"mmpose\" is a correct scope, or whether the registry is initialized.\n",
      "12/22 15:07:07 - mmengine - \u001b[5m\u001b[4m\u001b[33mWARNING\u001b[0m - Failed to search registry with scope \"mmpose\" in the \"mmpose_tasks\" registry tree. As a workaround, the current \"mmpose_tasks\" registry in \"mmdeploy\" is used to build instance. This may cause unexpected failure when running the built modules. Please check whether \"mmpose\" is a correct scope, or whether the registry is initialized.\n",
      "12/22 15:07:10 - mmengine - \u001b[4m\u001b[97mINFO\u001b[0m - Start pipeline mmdeploy.apis.pytorch2onnx.torch2onnx in subprocess\n",
      "12/22 15:07:11 - mmengine - \u001b[5m\u001b[4m\u001b[33mWARNING\u001b[0m - Failed to search registry with scope \"mmpose\" in the \"Codebases\" registry tree. As a workaround, the current \"Codebases\" registry in \"mmdeploy\" is used to build instance. This may cause unexpected failure when running the built modules. Please check whether \"mmpose\" is a correct scope, or whether the registry is initialized.\n",
      "12/22 15:07:11 - mmengine - \u001b[5m\u001b[4m\u001b[33mWARNING\u001b[0m - Failed to search registry with scope \"mmpose\" in the \"mmpose_tasks\" registry tree. As a workaround, the current \"mmpose_tasks\" registry in \"mmdeploy\" is used to build instance. This may cause unexpected failure when running the built modules. Please check whether \"mmpose\" is a correct scope, or whether the registry is initialized.\n",
      "Loads checkpoint by local backend from path: ../mmpose/checkpoint/rtmpose-m_8xb64-120e_lapa-256x256_60-0be849e2_20231221.pth\n",
      "12/22 15:07:12 - mmengine - \u001b[5m\u001b[4m\u001b[33mWARNING\u001b[0m - DeprecationWarning: get_onnx_config will be deprecated in the future. \n",
      "12/22 15:07:12 - mmengine - \u001b[4m\u001b[97mINFO\u001b[0m - Export PyTorch model to ONNX: ../rtmpose2onnx\\end2end.onnx.\n",
      "12/22 15:07:14 - mmengine - \u001b[4m\u001b[97mINFO\u001b[0m - Execute onnx optimize passes.\n",
      "12/22 15:07:14 - mmengine - \u001b[5m\u001b[4m\u001b[33mWARNING\u001b[0m - Can not optimize model, please build torchscipt extension.\n",
      "More details: https://github.com/open-mmlab/mmdeploy/tree/1.x/docs/en/experimental/onnx_optimizer.md\n",
      "12/22 15:07:14 - mmengine - \u001b[4m\u001b[97mINFO\u001b[0m - Finish pipeline mmdeploy.apis.pytorch2onnx.torch2onnx\n",
      "12/22 15:07:15 - mmengine - \u001b[4m\u001b[97mINFO\u001b[0m - Start pipeline mmdeploy.apis.utils.utils.to_backend in main process\n",
      "12/22 15:07:15 - mmengine - \u001b[4m\u001b[97mINFO\u001b[0m - Finish pipeline mmdeploy.apis.utils.utils.to_backend\n",
      "12/22 15:07:15 - mmengine - \u001b[4m\u001b[97mINFO\u001b[0m - visualize onnxruntime model start.\n",
      "12/22 15:07:19 - mmengine - \u001b[5m\u001b[4m\u001b[33mWARNING\u001b[0m - Failed to search registry with scope \"mmpose\" in the \"Codebases\" registry tree. As a workaround, the current \"Codebases\" registry in \"mmdeploy\" is used to build instance. This may cause unexpected failure when running the built modules. Please check whether \"mmpose\" is a correct scope, or whether the registry is initialized.\n",
      "12/22 15:07:19 - mmengine - \u001b[5m\u001b[4m\u001b[33mWARNING\u001b[0m - Failed to search registry with scope \"mmpose\" in the \"mmpose_tasks\" registry tree. As a workaround, the current \"mmpose_tasks\" registry in \"mmdeploy\" is used to build instance. This may cause unexpected failure when running the built modules. Please check whether \"mmpose\" is a correct scope, or whether the registry is initialized.\n",
      "12/22 15:07:19 - mmengine - \u001b[5m\u001b[4m\u001b[33mWARNING\u001b[0m - Failed to search registry with scope \"mmpose\" in the \"backend_segmentors\" registry tree. As a workaround, the current \"backend_segmentors\" registry in \"mmdeploy\" is used to build instance. This may cause unexpected failure when running the built modules. Please check whether \"mmpose\" is a correct scope, or whether the registry is initialized.\n",
      "12/22 15:07:19 - mmengine - \u001b[4m\u001b[97mINFO\u001b[0m - Successfully loaded onnxruntime custom ops from D:\\Anaconda3\\envs\\openmmlab\\lib\\site-packages\\mmdeploy\\lib\\mmdeploy_onnxruntime_ops.dll\n",
      "12/22 15:07:20 - mmengine - \u001b[4m\u001b[97mINFO\u001b[0m - visualize onnxruntime model success.\n",
      "12/22 15:07:20 - mmengine - \u001b[4m\u001b[97mINFO\u001b[0m - visualize pytorch model start.\n",
      "12/22 15:07:24 - mmengine - \u001b[5m\u001b[4m\u001b[33mWARNING\u001b[0m - Failed to search registry with scope \"mmpose\" in the \"Codebases\" registry tree. As a workaround, the current \"Codebases\" registry in \"mmdeploy\" is used to build instance. This may cause unexpected failure when running the built modules. Please check whether \"mmpose\" is a correct scope, or whether the registry is initialized.\n",
      "12/22 15:07:24 - mmengine - \u001b[5m\u001b[4m\u001b[33mWARNING\u001b[0m - Failed to search registry with scope \"mmpose\" in the \"mmpose_tasks\" registry tree. As a workaround, the current \"mmpose_tasks\" registry in \"mmdeploy\" is used to build instance. This may cause unexpected failure when running the built modules. Please check whether \"mmpose\" is a correct scope, or whether the registry is initialized.\n",
      "Loads checkpoint by local backend from path: ../mmpose/checkpoint/rtmpose-m_8xb64-120e_lapa-256x256_60-0be849e2_20231221.pth\n",
      "12/22 15:07:26 - mmengine - \u001b[4m\u001b[97mINFO\u001b[0m - visualize pytorch model success.\n",
      "12/22 15:07:26 - mmengine - \u001b[4m\u001b[97mINFO\u001b[0m - All process success.\n"
     ]
    },
    {
     "name": "stderr",
     "output_type": "stream",
     "text": [
      "D:\\Anaconda3\\envs\\openmmlab\\lib\\site-packages\\mmpose\\datasets\\datasets\\utils.py:102: UserWarning: The metainfo config file \"configs/_base_/datasets/lapa.py\" does not exist. A matched config file \"D:\\Anaconda3\\envs\\openmmlab\\lib\\site-packages\\mmpose\\.mim\\configs\\_base_\\datasets\\lapa.py\" will be used instead.\n",
      "  warnings.warn(\n",
      "D:\\Anaconda3\\envs\\openmmlab\\lib\\site-packages\\mmpose\\datasets\\datasets\\utils.py:102: UserWarning: The metainfo config file \"configs/_base_/datasets/lapa.py\" does not exist. A matched config file \"D:\\Anaconda3\\envs\\openmmlab\\lib\\site-packages\\mmpose\\.mim\\configs\\_base_\\datasets\\lapa.py\" will be used instead.\n",
      "  warnings.warn(\n",
      "D:\\Anaconda3\\envs\\openmmlab\\lib\\site-packages\\mmpose\\datasets\\datasets\\utils.py:102: UserWarning: The metainfo config file \"configs/_base_/datasets/lapa.py\" does not exist. A matched config file \"D:\\Anaconda3\\envs\\openmmlab\\lib\\site-packages\\mmpose\\.mim\\configs\\_base_\\datasets\\lapa.py\" will be used instead.\n",
      "  warnings.warn(\n",
      "D:\\Anaconda3\\envs\\openmmlab\\lib\\site-packages\\mmpose\\datasets\\datasets\\utils.py:102: UserWarning: The metainfo config file \"configs/_base_/datasets/lapa.py\" does not exist. A matched config file \"D:\\Anaconda3\\envs\\openmmlab\\lib\\site-packages\\mmpose\\.mim\\configs\\_base_\\datasets\\lapa.py\" will be used instead.\n",
      "  warnings.warn(\n",
      "D:\\Anaconda3\\envs\\openmmlab\\lib\\site-packages\\mmpose\\datasets\\datasets\\utils.py:102: UserWarning: The metainfo config file \"configs/_base_/datasets/lapa.py\" does not exist. A matched config file \"D:\\Anaconda3\\envs\\openmmlab\\lib\\site-packages\\mmpose\\.mim\\configs\\_base_\\datasets\\lapa.py\" will be used instead.\n",
      "  warnings.warn(\n"
     ]
    }
   ],
   "source": [
    "!python tools/deploy.py \\\n",
    "        configs/mmpose/pose-detection_simcc_onnxruntime_dynamic.py \\\n",
    "        ../mmpose/configs/face_2d_keypoint/rtmpose/lapa/rtmpose-m_8xb64-120e_lapa-256x256.py \\\n",
    "        ../mmpose/checkpoint/rtmpose-m_8xb64-120e_lapa-256x256_60-0be849e2_20231221.pth \\\n",
    "        ../mmpose/tests/data/cofw/001766.jpg \\\n",
    "        --work-dir ../rtmpose2onnx \\\n",
    "        --dump-info"
   ]
  },
  {
   "cell_type": "code",
   "execution_count": 10,
   "id": "1a8476cd-cd33-4761-a234-cb055a412244",
   "metadata": {},
   "outputs": [
    {
     "name": "stdout",
     "output_type": "stream",
     "text": [
      "12/21 18:24:06 - mmengine - \u001b[5m\u001b[4m\u001b[33mWARNING\u001b[0m - Failed to search registry with scope \"mmpose\" in the \"Codebases\" registry tree. As a workaround, the current \"Codebases\" registry in \"mmdeploy\" is used to build instance. This may cause unexpected failure when running the built modules. Please check whether \"mmpose\" is a correct scope, or whether the registry is initialized.\n",
      "12/21 18:24:06 - mmengine - \u001b[5m\u001b[4m\u001b[33mWARNING\u001b[0m - Failed to search registry with scope \"mmpose\" in the \"mmpose_tasks\" registry tree. As a workaround, the current \"mmpose_tasks\" registry in \"mmdeploy\" is used to build instance. This may cause unexpected failure when running the built modules. Please check whether \"mmpose\" is a correct scope, or whether the registry is initialized.\n",
      "12/21 18:24:09 - mmengine - \u001b[4m\u001b[97mINFO\u001b[0m - Start pipeline mmdeploy.apis.pytorch2onnx.torch2onnx in subprocess\n",
      "12/21 18:24:11 - mmengine - \u001b[5m\u001b[4m\u001b[33mWARNING\u001b[0m - Failed to search registry with scope \"mmpose\" in the \"Codebases\" registry tree. As a workaround, the current \"Codebases\" registry in \"mmdeploy\" is used to build instance. This may cause unexpected failure when running the built modules. Please check whether \"mmpose\" is a correct scope, or whether the registry is initialized.\n",
      "12/21 18:24:11 - mmengine - \u001b[5m\u001b[4m\u001b[33mWARNING\u001b[0m - Failed to search registry with scope \"mmpose\" in the \"mmpose_tasks\" registry tree. As a workaround, the current \"mmpose_tasks\" registry in \"mmdeploy\" is used to build instance. This may cause unexpected failure when running the built modules. Please check whether \"mmpose\" is a correct scope, or whether the registry is initialized.\n",
      "Loads checkpoint by local backend from path: ../mmpose/checkpoint/rtmpose-m_simcc-lapa_pt-aic-coco_120e-256x256-762b1ae2_20230422.pth\n",
      "12/21 18:24:12 - mmengine - \u001b[5m\u001b[4m\u001b[33mWARNING\u001b[0m - DeprecationWarning: get_onnx_config will be deprecated in the future. \n",
      "12/21 18:24:12 - mmengine - \u001b[4m\u001b[97mINFO\u001b[0m - Export PyTorch model to ONNX: ../rtmpose2onnx\\end2end.onnx.\n",
      "12/21 18:24:13 - mmengine - \u001b[4m\u001b[97mINFO\u001b[0m - Execute onnx optimize passes.\n",
      "12/21 18:24:13 - mmengine - \u001b[5m\u001b[4m\u001b[33mWARNING\u001b[0m - Can not optimize model, please build torchscipt extension.\n",
      "More details: https://github.com/open-mmlab/mmdeploy/tree/1.x/docs/en/experimental/onnx_optimizer.md\n",
      "12/21 18:24:13 - mmengine - \u001b[4m\u001b[97mINFO\u001b[0m - Finish pipeline mmdeploy.apis.pytorch2onnx.torch2onnx\n",
      "12/21 18:24:13 - mmengine - \u001b[4m\u001b[97mINFO\u001b[0m - Start pipeline mmdeploy.apis.utils.utils.to_backend in main process\n",
      "12/21 18:24:13 - mmengine - \u001b[4m\u001b[97mINFO\u001b[0m - Finish pipeline mmdeploy.apis.utils.utils.to_backend\n",
      "12/21 18:24:13 - mmengine - \u001b[4m\u001b[97mINFO\u001b[0m - visualize onnxruntime model start.\n",
      "12/21 18:24:18 - mmengine - \u001b[5m\u001b[4m\u001b[33mWARNING\u001b[0m - Failed to search registry with scope \"mmpose\" in the \"Codebases\" registry tree. As a workaround, the current \"Codebases\" registry in \"mmdeploy\" is used to build instance. This may cause unexpected failure when running the built modules. Please check whether \"mmpose\" is a correct scope, or whether the registry is initialized.\n",
      "12/21 18:24:18 - mmengine - \u001b[5m\u001b[4m\u001b[33mWARNING\u001b[0m - Failed to search registry with scope \"mmpose\" in the \"mmpose_tasks\" registry tree. As a workaround, the current \"mmpose_tasks\" registry in \"mmdeploy\" is used to build instance. This may cause unexpected failure when running the built modules. Please check whether \"mmpose\" is a correct scope, or whether the registry is initialized.\n",
      "12/21 18:24:18 - mmengine - \u001b[5m\u001b[4m\u001b[33mWARNING\u001b[0m - Failed to search registry with scope \"mmpose\" in the \"backend_segmentors\" registry tree. As a workaround, the current \"backend_segmentors\" registry in \"mmdeploy\" is used to build instance. This may cause unexpected failure when running the built modules. Please check whether \"mmpose\" is a correct scope, or whether the registry is initialized.\n",
      "12/21 18:24:18 - mmengine - \u001b[4m\u001b[97mINFO\u001b[0m - Successfully loaded onnxruntime custom ops from D:\\Anaconda3\\envs\\openmmlab\\lib\\site-packages\\mmdeploy\\lib\\mmdeploy_onnxruntime_ops.dll\n",
      "Traceback (most recent call last):\n",
      "  File \"D:\\Anaconda3\\envs\\openmmlab\\lib\\site-packages\\mmdeploy\\utils\\utils.py\", line 41, in target_wrapper\n",
      "    result = target(*args, **kwargs)\n",
      "  File \"D:\\Anaconda3\\envs\\openmmlab\\lib\\site-packages\\mmdeploy\\apis\\visualize.py\", line 72, in visualize_model\n",
      "    result = model.test_step(model_inputs)[0]\n",
      "  File \"D:\\Anaconda3\\envs\\openmmlab\\lib\\site-packages\\mmengine\\model\\base_model\\base_model.py\", line 145, in test_step\n",
      "    return self._run_forward(data, mode='predict')  # type: ignore\n",
      "  File \"D:\\Anaconda3\\envs\\openmmlab\\lib\\site-packages\\mmengine\\model\\base_model\\base_model.py\", line 346, in _run_forward\n",
      "    results = self(**data, mode=mode)\n",
      "  File \"D:\\Anaconda3\\envs\\openmmlab\\lib\\site-packages\\torch\\nn\\modules\\module.py\", line 1518, in _wrapped_call_impl\n",
      "    return self._call_impl(*args, **kwargs)\n",
      "  File \"D:\\Anaconda3\\envs\\openmmlab\\lib\\site-packages\\torch\\nn\\modules\\module.py\", line 1527, in _call_impl\n",
      "    return forward_call(*args, **kwargs)\n",
      "  File \"D:\\Anaconda3\\envs\\openmmlab\\lib\\site-packages\\mmdeploy\\codebase\\mmpose\\deploy\\pose_detection_model.py\", line 110, in forward\n",
      "    results = self.pack_result(preds, data_samples)\n",
      "  File \"D:\\Anaconda3\\envs\\openmmlab\\lib\\site-packages\\mmdeploy\\codebase\\mmpose\\deploy\\pose_detection_model.py\", line 144, in pack_result\n",
      "    bbox_centers = gt_instances.bbox_centers\n",
      "AttributeError: 'InstanceData' object has no attribute 'bbox_centers'\n",
      "12/21 18:24:19 - mmengine - \u001b[5m\u001b[4m\u001b[31mERROR\u001b[0m - tools/deploy.py - create_process - 82 - visualize onnxruntime model failed.\n"
     ]
    },
    {
     "name": "stderr",
     "output_type": "stream",
     "text": [
      "e:\\mmpose\\mmpose\\datasets\\datasets\\utils.py:102: UserWarning: The metainfo config file \"configs/_base_/datasets/lapa.py\" does not exist. A matched config file \"e:\\mmpose\\mmpose\\.mim\\configs\\_base_\\datasets\\lapa.py\" will be used instead.\n",
      "  warnings.warn(\n",
      "e:\\mmpose\\mmpose\\datasets\\datasets\\utils.py:102: UserWarning: The metainfo config file \"configs/_base_/datasets/lapa.py\" does not exist. A matched config file \"e:\\mmpose\\mmpose\\.mim\\configs\\_base_\\datasets\\lapa.py\" will be used instead.\n",
      "  warnings.warn(\n",
      "2023-12-21:18:24:18 - root - ERROR - 'InstanceData' object has no attribute 'bbox_centers'\n"
     ]
    }
   ],
   "source": [
    "!python tools/deploy.py \\\n",
    "        configs/mmpose/pose-detection_simcc_onnxruntime_dynamic.py \\\n",
    "        ../mmpose/configs/face_2d_keypoint/rtmpose/lapa/rtmpose-m_8xb64-120e_lapa-256x256.py \\\n",
    "        ../mmpose/checkpoint/rtmpose-m_simcc-lapa_pt-aic-coco_120e-256x256-762b1ae2_20230422.pth \\\n",
    "        ../mmpose/tests/data/cofw/001766.jpg \\\n",
    "        --work-dir ../rtmpose2onnx \\\n",
    "        --dump-info"
   ]
  },
  {
   "cell_type": "markdown",
   "id": "49fd75ee-b7ce-4909-9d32-abed87e1760e",
   "metadata": {},
   "source": [
    "## 生成以下文件\n",
    "\n",
    "验证转换成功（非必需）：\n",
    "\n",
    "- output_onnxruntime.jpg：用ONNX Runtime推理框架的预测结果，应与`output_pytorch.jpg`几乎相同\n",
    "\n",
    "- output_pytorch.jpg：用原生Pytorch的预测结果，应与`output_onnxruntime.jpg`几乎相同\n",
    "\n",
    "- detail.json：模型转ONNX的信息，用于追溯bug\n",
    "\n",
    "转换得到的模型及信息（必需）：\n",
    "\n",
    "- deploy.json：模型描述，用于MMDeploy Runtime推理\n",
    "\n",
    "- end2end.onnx：ONNX模型\n",
    "\n",
    "- pipeline.json：模型输入、推理、后处理，每一步骤的输入输出信息"
   ]
  },
  {
   "cell_type": "code",
   "execution_count": null,
   "id": "5664e6f3-cd2f-4e41-96c1-28307ce312b9",
   "metadata": {},
   "outputs": [],
   "source": []
  }
 ],
 "metadata": {
  "kernelspec": {
   "display_name": "Python 3 (ipykernel)",
   "language": "python",
   "name": "python3"
  },
  "language_info": {
   "codemirror_mode": {
    "name": "ipython",
    "version": 3
   },
   "file_extension": ".py",
   "mimetype": "text/x-python",
   "name": "python",
   "nbconvert_exporter": "python",
   "pygments_lexer": "ipython3",
   "version": "3.8.18"
  }
 },
 "nbformat": 4,
 "nbformat_minor": 5
}
