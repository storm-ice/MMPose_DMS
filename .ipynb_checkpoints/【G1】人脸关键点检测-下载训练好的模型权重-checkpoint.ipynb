{
 "cells": [
  {
   "cell_type": "markdown",
   "id": "6d6ad43b-8fde-4c7b-ad67-1bce62c08afd",
   "metadata": {},
   "source": [
    "# 人脸关键点检测-下载训练好的模型权重"
   ]
  },
  {
   "cell_type": "markdown",
   "id": "9170e712-665b-4533-ab7b-b6343548f6e4",
   "metadata": {
    "tags": []
   },
   "source": [
    "## 进入 mmpose 主目录"
   ]
  },
  {
   "cell_type": "code",
   "execution_count": 1,
   "id": "11c3a96e-94cc-475e-8f78-bcf02d281052",
   "metadata": {},
   "outputs": [],
   "source": [
    "import os\n",
    "os.chdir('mmpose')"
   ]
  },
  {
   "cell_type": "code",
   "execution_count": 2,
   "id": "43f2bc2b-27cb-4f6e-8274-189f84080f2f",
   "metadata": {},
   "outputs": [
    {
     "name": "stdout",
     "output_type": "stream",
     "text": [
      "/e/openmmlab/MMPose_Tutorials/2023/0524/mmpose\n"
     ]
    }
   ],
   "source": [
    "!pwd"
   ]
  },
  {
   "cell_type": "markdown",
   "id": "38e401ff-17b7-4bc9-b021-441fefe89aeb",
   "metadata": {},
   "source": [
    "## 下载模型权重文件至`checkpoint`目录"
   ]
  },
  {
   "cell_type": "markdown",
   "id": "4ba5042c-ac38-412d-8557-ae1856b33a0e",
   "metadata": {},
   "source": [
    "checkpoint/rtmpose-m_8xb64-120e_lapa-256x256_60-0be849e2_20231221.pth"
   ]
  },
  {
   "cell_type": "markdown",
   "id": "77a6193d-206f-405c-b070-d97af7281b08",
   "metadata": {},
   "source": [
    "https://download.openmmlab.com/mmpose/v1/projects/'rtmposev1/cspnext-m_udp-aic-coco_210e-256x192-f2f7d6f6_20230130.pta"
   ]
  },
  {
   "cell_type": "code",
   "execution_count": 1,
   "id": "ea2bfc79-95df-4994-a068-b35c5854c902",
   "metadata": {},
   "outputs": [],
   "source": [
    "# RTMPose-m 人脸关键点检测\n",
    "!wget https://download.openmmlab.com/mmpose/v1/projects/rtmposev1/cspnext-m_udp-aic-coco_210e-256x192-f2f7d6f6_20230130.pth -P checkpoint\n"
   ]
  },
  {
   "cell_type": "code",
   "execution_count": null,
   "id": "c0759d57-0042-46c6-98b4-acbf525bc114",
   "metadata": {},
   "outputs": [],
   "source": []
  }
 ],
 "metadata": {
  "kernelspec": {
   "display_name": "Python 3 (ipykernel)",
   "language": "python",
   "name": "python3"
  },
  "language_info": {
   "codemirror_mode": {
    "name": "ipython",
    "version": 3
   },
   "file_extension": ".py",
   "mimetype": "text/x-python",
   "name": "python",
   "nbconvert_exporter": "python",
   "pygments_lexer": "ipython3",
   "version": "3.8.18"
  }
 },
 "nbformat": 4,
 "nbformat_minor": 5
}
